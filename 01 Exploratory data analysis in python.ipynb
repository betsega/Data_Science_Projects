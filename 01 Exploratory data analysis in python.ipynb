{
 "cells": [
  {
   "cell_type": "markdown",
   "metadata": {},
   "source": [
    "<img src=\"http://imgur.com/1ZcRyrc.png\" style=\"float: left; margin: 20px; height: 55px\">\n",
    "\n",
    "# Project 1: SAT and ACT Analysis"
   ]
  },
  {
   "cell_type": "markdown",
   "metadata": {},
   "source": [
    "\n",
    "This is the first project for Data Science Immersive in June 2021 of the General Assembly."
   ]
  },
  {
   "cell_type": "markdown",
   "metadata": {},
   "source": [
    "## Problem Statement"
   ]
  },
  {
   "cell_type": "markdown",
   "metadata": {},
   "source": [
    "The data used in this project containing the test scores and participation rates for the two standardization tests, SAT & ACT, conducted in the US for the universities and colleges admission requirements. The datasets provided in the year 2017 contains the following values in the csv files formats:\n",
    "\n",
    "- SAT 2017: State, Participation Rate, Math & Evidence-Based Reading and Writing, and Total scores.\n",
    "- ACT 2017: State, Participation Rate, Math, Science, Reading, English, and Composite scores.\n",
    "\n",
    "This project used SAT and ACT dataset to examine the participation rate of the states in the year 2017. The data cleaning methods were applied to prepare the data for further analysis investigate. In addition, the study estimates the statistical description of the data with the correlation of each test participation for preferred test scores. The project aimed to address the overall statistical distribution of the SAT over ACT in the same year with different states for imporuving participation rates.\n"
   ]
  },
  {
   "cell_type": "markdown",
   "metadata": {},
   "source": [
    "\n",
    "##  Outline of the Summary\n",
    "\n",
    "- Error data cleaned it appeared in composit and participation of scores \n",
    "- State with lowest participation rates\n",
    "  - 2017 ACT : **Maine** (8%)\n",
    "  - 2017 SAT : **North Dakota**, **Mississippi **, **Iowa** (2%)\t\n",
    "\n",
    "- States with highest participation rates\n",
    "  - 2017 ACT :  **Alabama**, **North Carolina**, **Montana**, **Colorado**, **Oklahoma**... (100%)\n",
    "  - 2017 SAT : **District of Columbia**, **Michigan**, **Connecticut**, **Delaware**        (100%)\n",
    " \t\n",
    "- State with highest mean total/composite scores\n",
    "  - 2017 ACT :  **New Hampshire** (25.5)\n",
    "  - 2017 SAT :  **District of Columbia** (950)\n",
    "  \n",
    "- State with lowest mean total/composite scores\n",
    "  - 2017 ACT : **Nevada** (17.8)\n",
    "  - 2017 SAT : **Minnesota** (1295)\n",
    "  \n",
    "- Heatmaps, histograms, boxplots and  scatterplots were applied to visualize the results in depth.\n",
    "- Strong negative relationship between test participation and average test score is found. States with lower participation rates likely to see higher average scores than a state with higher participation rates on that same test\n",
    "- The distribution for ACT participation rates skewed left whereas for SAT participation rates skewed right for both years. ACT participation is higher than SAT."
   ]
  },
  {
   "cell_type": "markdown",
   "metadata": {},
   "source": [
    "### Contents:\n",
    "- [Background](#Background)\n",
    "- [2017 Data Import & Cleaning of ACT and SAT](#2017-Data-Import-&-Cleaning-of-ACT-and-SAT)\n",
    "- [Exploratory Data Analysis](#Exploratory-Data-Analysis)\n",
    "- [Data Visualization](#Visualize-the-Data)\n",
    "- [Conclusions and Recommendations](#Conclusions-and-Recommendations)"
   ]
  },
  {
   "cell_type": "markdown",
   "metadata": {},
   "source": []
  },
  {
   "cell_type": "markdown",
   "metadata": {},
   "source": [
    "### Part 1: Coding Challenges\n",
    "\n",
    "1. Manually calculate mean:\n",
    "\n",
    "   Write a function that takes in values and returns the mean of the values. Create a list of numbers that you test on your function to check to make sure your function works!\n",
    "    \n",
    "   *Note*: Do not use any mean methods built-in to any Python libraries to do this! This should be done without importing any additio"
   ]
  },
  {
   "cell_type": "code",
   "execution_count": 299,
   "metadata": {},
   "outputs": [
    {
     "name": "stdout",
     "output_type": "stream",
     "text": [
      "The mean value is  55.0\n"
     ]
    }
   ],
   "source": [
    "# Calculating the mean of a list of numbers\n",
    "def mean_of_numbers(numbers):\n",
    "    total=0\n",
    "    for i in numbers:\n",
    "        total +=i\n",
    "        \n",
    "    mean_nums= total/len(numbers)\n",
    "    return mean_nums\n",
    "       \n",
    "print(\"The mean value is \", mean_of_numbers([10,20,30,40,50,60,70,80,90,100]))"
   ]
  },
  {
   "cell_type": "markdown",
   "metadata": {},
   "source": [
    "2. Manually calculate standard deviation:\n",
    "\n",
    "    The formula for standard deviation is below:\n",
    "\n",
    "    $$\\sigma = \\sqrt{\\frac{1}{n}\\sum_{i=1}^n(x_i - \\mu)^2}$$\n",
    "\n",
    "    Where $x_i$ represents each value in the dataset, $\\mu$ represents the mean of all values in the dataset and $n$ represents the number of values in the dataset.\n",
    "\n",
    "    Write a function that takes in values and returns the standard deviation of the values using the formula above. Hint: use the function you wrote above to calculate the mean! Use the list of numbers you created above to test on your function.\n",
    "    \n",
    "    *Note*: Do not use any standard deviation methods built-in to any Python libraries to do this! This should be done without importing any additional libraries."
   ]
  },
  {
   "cell_type": "code",
   "execution_count": 300,
   "metadata": {},
   "outputs": [
    {
     "name": "stdout",
     "output_type": "stream",
     "text": [
      "The standard deviation is  14.142135623730951\n"
     ]
    },
    {
     "data": {
      "text/plain": [
       "2.29128784747792"
      ]
     },
     "execution_count": 300,
     "metadata": {},
     "output_type": "execute_result"
    }
   ],
   "source": [
    "# standard deviation calculation using the given formula\n",
    "def standard_deviation(num):\n",
    "    n = len(num)\n",
    "    mean = sum(num)/n\n",
    "    deviations = [(i - mean) ** 2 for i in num]\n",
    "    sum_deviations = sum(deviations)/n\n",
    "    stdv=(sum_deviations)**.5\n",
    "    return stdv\n",
    "\n",
    "print(\"The standard deviation is \", standard_deviation([10,20,30,40,50]))\n",
    "\n",
    "standard_deviation([1,2,3,4,5,6,7,8])"
   ]
  },
  {
   "cell_type": "markdown",
   "metadata": {},
   "source": [
    "3. Data cleaning function:\n",
    "    \n",
    "    Write a function that takes in a string that is a number and a percent symbol (ex. '50%', '30.5%', etc.) and converts this to a float that is the decimal approximation of the percent. For example, inputting '50%' in your function should return 0.5, '30.5%' should return 0.305, etc. Make sure to test your function to make sure it works!\n",
    "\n",
    "You will use these functions later on in the project!"
   ]
  },
  {
   "cell_type": "code",
   "execution_count": 301,
   "metadata": {},
   "outputs": [],
   "source": [
    "# changing assigned variable percentage to float\n",
    "def percentstr_float(xx):\n",
    "    bb=xx[0:-1]\n",
    "    cc=float(bb)/100 # percentage changed to float\n",
    "    return cc"
   ]
  },
  {
   "cell_type": "code",
   "execution_count": 302,
   "metadata": {},
   "outputs": [
    {
     "data": {
      "text/plain": [
       "0.305"
      ]
     },
     "execution_count": 302,
     "metadata": {},
     "output_type": "execute_result"
    }
   ],
   "source": [
    "percentstr_float('30.5%')"
   ]
  },
  {
   "cell_type": "markdown",
   "metadata": {},
   "source": [
    " \n",
    "# Part 2 : Data Cleaning and Analysis\n",
    "\n",
    "###  2017  Datasets of SAT and ACT\n",
    "\n",
    "The two datasets of the year 2017 were used in this project to outlined the main problems of the tests discripancy in the same years.\n",
    "\n",
    "* [`act_2017.csv`](./data/act_2017.csv): 2017 ACT Scores by State\n",
    "* [`sat_2017.csv`](./data/sat_2017.csv): 2017 SAT Scores by State\n"
   ]
  },
  {
   "cell_type": "code",
   "execution_count": 303,
   "metadata": {},
   "outputs": [],
   "source": [
    "# Imports:\n",
    "import numpy as np\n",
    "import pandas as pd\n",
    "import matplotlib.pyplot as plt\n",
    "import seaborn as sns\n",
    "from scipy import stats"
   ]
  },
  {
   "cell_type": "markdown",
   "metadata": {},
   "source": [
    "## 2017 Data Import and Cleaning"
   ]
  },
  {
   "cell_type": "markdown",
   "metadata": {},
   "source": [
    "### Data Import & Cleaning\n",
    "\n",
    "The `act_2017.csv` and `sat_2017.csv` files were loaded and assigned to pandas dataframes.\n",
    "\n",
    "#### 1. Display the data: "
   ]
  },
  {
   "cell_type": "code",
   "execution_count": 304,
   "metadata": {},
   "outputs": [],
   "source": [
    "# Read the ACT and SAT 2017 data from csv \n",
    "act_2017 = pd.read_csv(\"../data/act_2017.csv\")\n",
    "sat_2017 = pd.read_csv(\"../data/sat_2017.csv\")"
   ]
  },
  {
   "cell_type": "markdown",
   "metadata": {},
   "source": [
    "\n",
    "Print the first 5 rows of each dataframe to the Jupyter notebook."
   ]
  },
  {
   "cell_type": "code",
   "execution_count": 305,
   "metadata": {},
   "outputs": [
    {
     "data": {
      "text/html": [
       "<div>\n",
       "<style scoped>\n",
       "    .dataframe tbody tr th:only-of-type {\n",
       "        vertical-align: middle;\n",
       "    }\n",
       "\n",
       "    .dataframe tbody tr th {\n",
       "        vertical-align: top;\n",
       "    }\n",
       "\n",
       "    .dataframe thead th {\n",
       "        text-align: right;\n",
       "    }\n",
       "</style>\n",
       "<table border=\"1\" class=\"dataframe\">\n",
       "  <thead>\n",
       "    <tr style=\"text-align: right;\">\n",
       "      <th></th>\n",
       "      <th>State</th>\n",
       "      <th>Participation</th>\n",
       "      <th>English</th>\n",
       "      <th>Math</th>\n",
       "      <th>Reading</th>\n",
       "      <th>Science</th>\n",
       "      <th>Composite</th>\n",
       "    </tr>\n",
       "  </thead>\n",
       "  <tbody>\n",
       "    <tr>\n",
       "      <th>0</th>\n",
       "      <td>National</td>\n",
       "      <td>60%</td>\n",
       "      <td>20.3</td>\n",
       "      <td>20.7</td>\n",
       "      <td>21.4</td>\n",
       "      <td>21.0</td>\n",
       "      <td>21.0</td>\n",
       "    </tr>\n",
       "    <tr>\n",
       "      <th>1</th>\n",
       "      <td>Alabama</td>\n",
       "      <td>100%</td>\n",
       "      <td>18.9</td>\n",
       "      <td>18.4</td>\n",
       "      <td>19.7</td>\n",
       "      <td>19.4</td>\n",
       "      <td>19.2</td>\n",
       "    </tr>\n",
       "    <tr>\n",
       "      <th>2</th>\n",
       "      <td>Alaska</td>\n",
       "      <td>65%</td>\n",
       "      <td>18.7</td>\n",
       "      <td>19.8</td>\n",
       "      <td>20.4</td>\n",
       "      <td>19.9</td>\n",
       "      <td>19.8</td>\n",
       "    </tr>\n",
       "    <tr>\n",
       "      <th>3</th>\n",
       "      <td>Arizona</td>\n",
       "      <td>62%</td>\n",
       "      <td>18.6</td>\n",
       "      <td>19.8</td>\n",
       "      <td>20.1</td>\n",
       "      <td>19.8</td>\n",
       "      <td>19.7</td>\n",
       "    </tr>\n",
       "    <tr>\n",
       "      <th>4</th>\n",
       "      <td>Arkansas</td>\n",
       "      <td>100%</td>\n",
       "      <td>18.9</td>\n",
       "      <td>19.0</td>\n",
       "      <td>19.7</td>\n",
       "      <td>19.5</td>\n",
       "      <td>19.4</td>\n",
       "    </tr>\n",
       "  </tbody>\n",
       "</table>\n",
       "</div>"
      ],
      "text/plain": [
       "      State Participation  English  Math  Reading  Science Composite\n",
       "0  National           60%     20.3  20.7     21.4     21.0      21.0\n",
       "1   Alabama          100%     18.9  18.4     19.7     19.4      19.2\n",
       "2    Alaska           65%     18.7  19.8     20.4     19.9      19.8\n",
       "3   Arizona           62%     18.6  19.8     20.1     19.8      19.7\n",
       "4  Arkansas          100%     18.9  19.0     19.7     19.5      19.4"
      ]
     },
     "execution_count": 305,
     "metadata": {},
     "output_type": "execute_result"
    }
   ],
   "source": [
    "## disply the first 5 dataframe of act_2017\n",
    "act_2017.head(5)"
   ]
  },
  {
   "cell_type": "code",
   "execution_count": 306,
   "metadata": {},
   "outputs": [
    {
     "data": {
      "text/html": [
       "<div>\n",
       "<style scoped>\n",
       "    .dataframe tbody tr th:only-of-type {\n",
       "        vertical-align: middle;\n",
       "    }\n",
       "\n",
       "    .dataframe tbody tr th {\n",
       "        vertical-align: top;\n",
       "    }\n",
       "\n",
       "    .dataframe thead th {\n",
       "        text-align: right;\n",
       "    }\n",
       "</style>\n",
       "<table border=\"1\" class=\"dataframe\">\n",
       "  <thead>\n",
       "    <tr style=\"text-align: right;\">\n",
       "      <th></th>\n",
       "      <th>State</th>\n",
       "      <th>Participation</th>\n",
       "      <th>Evidence-Based Reading and Writing</th>\n",
       "      <th>Math</th>\n",
       "      <th>Total</th>\n",
       "    </tr>\n",
       "  </thead>\n",
       "  <tbody>\n",
       "    <tr>\n",
       "      <th>0</th>\n",
       "      <td>Alabama</td>\n",
       "      <td>5%</td>\n",
       "      <td>593</td>\n",
       "      <td>572</td>\n",
       "      <td>1165</td>\n",
       "    </tr>\n",
       "    <tr>\n",
       "      <th>1</th>\n",
       "      <td>Alaska</td>\n",
       "      <td>38%</td>\n",
       "      <td>547</td>\n",
       "      <td>533</td>\n",
       "      <td>1080</td>\n",
       "    </tr>\n",
       "    <tr>\n",
       "      <th>2</th>\n",
       "      <td>Arizona</td>\n",
       "      <td>30%</td>\n",
       "      <td>563</td>\n",
       "      <td>553</td>\n",
       "      <td>1116</td>\n",
       "    </tr>\n",
       "    <tr>\n",
       "      <th>3</th>\n",
       "      <td>Arkansas</td>\n",
       "      <td>3%</td>\n",
       "      <td>614</td>\n",
       "      <td>594</td>\n",
       "      <td>1208</td>\n",
       "    </tr>\n",
       "    <tr>\n",
       "      <th>4</th>\n",
       "      <td>California</td>\n",
       "      <td>53%</td>\n",
       "      <td>531</td>\n",
       "      <td>524</td>\n",
       "      <td>1055</td>\n",
       "    </tr>\n",
       "  </tbody>\n",
       "</table>\n",
       "</div>"
      ],
      "text/plain": [
       "        State Participation  Evidence-Based Reading and Writing  Math  Total\n",
       "0     Alabama            5%                                 593   572   1165\n",
       "1      Alaska           38%                                 547   533   1080\n",
       "2     Arizona           30%                                 563   553   1116\n",
       "3    Arkansas            3%                                 614   594   1208\n",
       "4  California           53%                                 531   524   1055"
      ]
     },
     "execution_count": 306,
     "metadata": {},
     "output_type": "execute_result"
    }
   ],
   "source": [
    "## disply the first 5 dataframe of sat_2017 \n",
    "sat_2017.head(5)"
   ]
  },
  {
   "cell_type": "markdown",
   "metadata": {},
   "source": [
    "#### 2. Check for missing values "
   ]
  },
  {
   "cell_type": "code",
   "execution_count": 307,
   "metadata": {},
   "outputs": [
    {
     "data": {
      "text/plain": [
       "State            0\n",
       "Participation    0\n",
       "English          0\n",
       "Math             0\n",
       "Reading          0\n",
       "Science          0\n",
       "Composite        0\n",
       "dtype: int64"
      ]
     },
     "execution_count": 307,
     "metadata": {},
     "output_type": "execute_result"
    }
   ],
   "source": [
    "# Check there is null values in the act_2017\n",
    "act_2017.isnull().sum()"
   ]
  },
  {
   "cell_type": "code",
   "execution_count": 308,
   "metadata": {},
   "outputs": [
    {
     "name": "stdout",
     "output_type": "stream",
     "text": [
      "<class 'pandas.core.frame.DataFrame'>\n",
      "RangeIndex: 51 entries, 0 to 50\n",
      "Data columns (total 5 columns):\n",
      " #   Column                              Non-Null Count  Dtype \n",
      "---  ------                              --------------  ----- \n",
      " 0   State                               51 non-null     object\n",
      " 1   Participation                       51 non-null     object\n",
      " 2   Evidence-Based Reading and Writing  51 non-null     int64 \n",
      " 3   Math                                51 non-null     int64 \n",
      " 4   Total                               51 non-null     int64 \n",
      "dtypes: int64(3), object(2)\n",
      "memory usage: 2.1+ KB\n"
     ]
    }
   ],
   "source": [
    "# Check there is missing value in the sat_2017.info()\n",
    "sat_2017.info()"
   ]
  },
  {
   "cell_type": "markdown",
   "metadata": {},
   "source": [
    "#### 3. Check for issues with observations:\n",
    "The minimum & maximum possible values for each test/subtest."
   ]
  },
  {
   "cell_type": "markdown",
   "metadata": {},
   "source": [
    "Answer: \n",
    "\n",
    "The SAT_2017 organized with Evidence-Based Reading and Writing, Math, the Total scores together with the participation data of the 51 states in the respective columns. \n",
    "\n",
    "\n",
    "The ACT_2017 organized with English, Math, Reading, Science, Composite together with the participation data of the 51 states in the respective columns. \n",
    "\n",
    "Observation: The data looks consistent except \"x\" value in the last row of composite DataFrame in act-2017 and \"%\" values in participation columns in both SAT and ACT 2017."
   ]
  },
  {
   "cell_type": "code",
   "execution_count": 309,
   "metadata": {},
   "outputs": [
    {
     "name": "stdout",
     "output_type": "stream",
     "text": [
      "Maximum of the scores for ACT 2017\n",
      "State            Wyoming\n",
      "Participation        98%\n",
      "English             25.5\n",
      "Math                25.3\n",
      "Reading             26.0\n",
      "Science             24.9\n",
      "Composite           25.5\n",
      "dtype: object\n",
      "\n",
      "---------------------------\n",
      "Minimum values of the scores for ACT 2017\n",
      "State            Alabama\n",
      "Participation        60%\n",
      "English             16.3\n",
      "Math                18.0\n",
      "Reading             18.1\n",
      "Science              2.3\n",
      "Composite           17.8\n",
      "dtype: object\n",
      "\n",
      "----------------------------\n",
      "Average values of the scores for ACT 2017:\n",
      "English    20.919231\n",
      "Math       21.173077\n",
      "Reading    22.001923\n",
      "Science    21.040385\n",
      "dtype: float64\n"
     ]
    }
   ],
   "source": [
    "#Check for maximum, minimume and mean of the values in act_2017 \n",
    "act_2017.max()\n",
    "\n",
    "print(\"Maximum of the scores for ACT 2017\")\n",
    "print(act_2017.max())\n",
    "print('\\n---------------------------')\n",
    "\n",
    "print(\"Minimum values of the scores for ACT 2017\")\n",
    "print(act_2017.min())\n",
    "print('\\n----------------------------')\n",
    "\n",
    "\n",
    "print(\"Average values of the scores for ACT 2017:\")\n",
    "print(act_2017.mean())"
   ]
  },
  {
   "cell_type": "code",
   "execution_count": 310,
   "metadata": {},
   "outputs": [
    {
     "name": "stdout",
     "output_type": "stream",
     "text": [
      "Maximum of the scores for SAT 2017\n",
      "State                                 Wyoming\n",
      "Participation                             96%\n",
      "Evidence-Based Reading and Writing        644\n",
      "Math                                      651\n",
      "Total                                    1295\n",
      "dtype: object\n",
      "\n",
      "---------------------------\n",
      "Minimum values of the scores for SAT 2017\n",
      "State                                 Alabama\n",
      "Participation                             10%\n",
      "Evidence-Based Reading and Writing        482\n",
      "Math                                       52\n",
      "Total                                     950\n",
      "dtype: object\n",
      "\n",
      "----------------------------\n",
      "Average values of the scores for SAT 2017:\n",
      "Evidence-Based Reading and Writing     569.117647\n",
      "Math                                   547.627451\n",
      "Total                                 1126.098039\n",
      "dtype: float64\n"
     ]
    }
   ],
   "source": [
    "#Check for maximum, minimume and mean of the values in sat_2017 \n",
    "sat_2017.max()\n",
    "\n",
    "print(\"Maximum of the scores for SAT 2017\")\n",
    "print(sat_2017.max())\n",
    "print('\\n---------------------------')\n",
    "\n",
    "print(\"Minimum values of the scores for SAT 2017\")\n",
    "print(sat_2017.min())\n",
    "print('\\n----------------------------')\n",
    "\n",
    "\n",
    "print(\"Average values of the scores for SAT 2017:\")\n",
    "print(sat_2017.mean())"
   ]
  },
  {
   "cell_type": "markdown",
   "metadata": {},
   "source": [
    "#### 4. Fix the errors "
   ]
  },
  {
   "cell_type": "code",
   "execution_count": 311,
   "metadata": {},
   "outputs": [
    {
     "data": {
      "text/plain": [
       "47     23.8\n",
       "48     21.9\n",
       "49     20.4\n",
       "50     20.5\n",
       "51    20.2x\n",
       "Name: Composite, dtype: object"
      ]
     },
     "execution_count": 311,
     "metadata": {},
     "output_type": "execute_result"
    }
   ],
   "source": [
    "# The \"x\" value in the composite at the end of the value\n",
    "act_2017['Composite'].tail()"
   ]
  },
  {
   "cell_type": "code",
   "execution_count": 312,
   "metadata": {},
   "outputs": [],
   "source": [
    "# Data cleaning for act_2017: Remove 'x' from last row of 'Composite' column and convert the column to float\n",
    "act_2017['Composite'] = act_2017['Composite'].apply(lambda y: float(y.replace('x','')))"
   ]
  },
  {
   "cell_type": "code",
   "execution_count": 313,
   "metadata": {},
   "outputs": [
    {
     "data": {
      "text/html": [
       "<div>\n",
       "<style scoped>\n",
       "    .dataframe tbody tr th:only-of-type {\n",
       "        vertical-align: middle;\n",
       "    }\n",
       "\n",
       "    .dataframe tbody tr th {\n",
       "        vertical-align: top;\n",
       "    }\n",
       "\n",
       "    .dataframe thead th {\n",
       "        text-align: right;\n",
       "    }\n",
       "</style>\n",
       "<table border=\"1\" class=\"dataframe\">\n",
       "  <thead>\n",
       "    <tr style=\"text-align: right;\">\n",
       "      <th></th>\n",
       "      <th>State</th>\n",
       "      <th>Participation</th>\n",
       "      <th>English</th>\n",
       "      <th>Math</th>\n",
       "      <th>Reading</th>\n",
       "      <th>Science</th>\n",
       "      <th>Composite</th>\n",
       "    </tr>\n",
       "  </thead>\n",
       "  <tbody>\n",
       "    <tr>\n",
       "      <th>47</th>\n",
       "      <td>Virginia</td>\n",
       "      <td>29%</td>\n",
       "      <td>23.5</td>\n",
       "      <td>23.3</td>\n",
       "      <td>24.6</td>\n",
       "      <td>23.5</td>\n",
       "      <td>23.8</td>\n",
       "    </tr>\n",
       "    <tr>\n",
       "      <th>48</th>\n",
       "      <td>Washington</td>\n",
       "      <td>29%</td>\n",
       "      <td>20.9</td>\n",
       "      <td>21.9</td>\n",
       "      <td>22.1</td>\n",
       "      <td>22.0</td>\n",
       "      <td>21.9</td>\n",
       "    </tr>\n",
       "    <tr>\n",
       "      <th>49</th>\n",
       "      <td>West Virginia</td>\n",
       "      <td>69%</td>\n",
       "      <td>20.0</td>\n",
       "      <td>19.4</td>\n",
       "      <td>21.2</td>\n",
       "      <td>20.5</td>\n",
       "      <td>20.4</td>\n",
       "    </tr>\n",
       "    <tr>\n",
       "      <th>50</th>\n",
       "      <td>Wisconsin</td>\n",
       "      <td>100%</td>\n",
       "      <td>19.7</td>\n",
       "      <td>20.4</td>\n",
       "      <td>20.6</td>\n",
       "      <td>20.9</td>\n",
       "      <td>20.5</td>\n",
       "    </tr>\n",
       "    <tr>\n",
       "      <th>51</th>\n",
       "      <td>Wyoming</td>\n",
       "      <td>100%</td>\n",
       "      <td>19.4</td>\n",
       "      <td>19.8</td>\n",
       "      <td>20.8</td>\n",
       "      <td>20.6</td>\n",
       "      <td>20.2</td>\n",
       "    </tr>\n",
       "  </tbody>\n",
       "</table>\n",
       "</div>"
      ],
      "text/plain": [
       "            State Participation  English  Math  Reading  Science  Composite\n",
       "47       Virginia           29%     23.5  23.3     24.6     23.5       23.8\n",
       "48     Washington           29%     20.9  21.9     22.1     22.0       21.9\n",
       "49  West Virginia           69%     20.0  19.4     21.2     20.5       20.4\n",
       "50      Wisconsin          100%     19.7  20.4     20.6     20.9       20.5\n",
       "51        Wyoming          100%     19.4  19.8     20.8     20.6       20.2"
      ]
     },
     "execution_count": 313,
     "metadata": {},
     "output_type": "execute_result"
    }
   ],
   "source": [
    "## see the last 5 rows to check if x is removed in composite column\n",
    "act_2017.tail(5)  "
   ]
  },
  {
   "cell_type": "code",
   "execution_count": 314,
   "metadata": {},
   "outputs": [],
   "source": [
    "## Data cleaning of the data sat_2017 and act_2017 to remove \"%\" symbols in the Participation column and convert the values to float type\n",
    "\n",
    "def remove_symbol(df_name, col_header = 'Participation'):\n",
    "    try:\n",
    "        df_name[col_header] = df_name[col_header].apply(lambda pct: float(pct.replace('%','')))\n",
    "    except:\n",
    "        print('Column header already include % symbol')\n",
    "\n",
    "# Add (%) to the 'Participation' column\n",
    "def add_col_header(df_name, col_header):\n",
    "    df_name.rename(columns = {col_header: col_header + '(%)'}, inplace=True)\n",
    "\n",
    "## Remove % from 'Participation' column using the above function\n",
    "\n",
    "remove_symbol(act_2017)\n",
    "remove_symbol(sat_2017)\n",
    "\n",
    "## Add % symbol to the Participation column using the second fuction above\n",
    "\n",
    "add_col_header(act_2017, 'Participation')\n",
    "\n",
    "add_col_header(sat_2017, 'Participation')"
   ]
  },
  {
   "cell_type": "markdown",
   "metadata": {},
   "source": [
    "#### 5. Display the data types of each feature."
   ]
  },
  {
   "cell_type": "code",
   "execution_count": 315,
   "metadata": {},
   "outputs": [
    {
     "data": {
      "text/plain": [
       "State                object\n",
       "Participation(%)    float64\n",
       "English             float64\n",
       "Math                float64\n",
       "Reading             float64\n",
       "Science             float64\n",
       "Composite           float64\n",
       "dtype: object"
      ]
     },
     "execution_count": 315,
     "metadata": {},
     "output_type": "execute_result"
    }
   ],
   "source": [
    "act_2017.dtypes"
   ]
  },
  {
   "cell_type": "code",
   "execution_count": 316,
   "metadata": {},
   "outputs": [
    {
     "data": {
      "text/html": [
       "<div>\n",
       "<style scoped>\n",
       "    .dataframe tbody tr th:only-of-type {\n",
       "        vertical-align: middle;\n",
       "    }\n",
       "\n",
       "    .dataframe tbody tr th {\n",
       "        vertical-align: top;\n",
       "    }\n",
       "\n",
       "    .dataframe thead th {\n",
       "        text-align: right;\n",
       "    }\n",
       "</style>\n",
       "<table border=\"1\" class=\"dataframe\">\n",
       "  <thead>\n",
       "    <tr style=\"text-align: right;\">\n",
       "      <th></th>\n",
       "      <th>State</th>\n",
       "      <th>Participation(%)</th>\n",
       "      <th>English</th>\n",
       "      <th>Math</th>\n",
       "      <th>Reading</th>\n",
       "      <th>Science</th>\n",
       "      <th>Composite</th>\n",
       "    </tr>\n",
       "  </thead>\n",
       "  <tbody>\n",
       "    <tr>\n",
       "      <th>0</th>\n",
       "      <td>National</td>\n",
       "      <td>60.0</td>\n",
       "      <td>20.3</td>\n",
       "      <td>20.7</td>\n",
       "      <td>21.4</td>\n",
       "      <td>21.0</td>\n",
       "      <td>21.0</td>\n",
       "    </tr>\n",
       "    <tr>\n",
       "      <th>1</th>\n",
       "      <td>Alabama</td>\n",
       "      <td>100.0</td>\n",
       "      <td>18.9</td>\n",
       "      <td>18.4</td>\n",
       "      <td>19.7</td>\n",
       "      <td>19.4</td>\n",
       "      <td>19.2</td>\n",
       "    </tr>\n",
       "  </tbody>\n",
       "</table>\n",
       "</div>"
      ],
      "text/plain": [
       "      State  Participation(%)  English  Math  Reading  Science  Composite\n",
       "0  National              60.0     20.3  20.7     21.4     21.0       21.0\n",
       "1   Alabama             100.0     18.9  18.4     19.7     19.4       19.2"
      ]
     },
     "execution_count": 316,
     "metadata": {},
     "output_type": "execute_result"
    }
   ],
   "source": [
    "act_2017.head(2)"
   ]
  },
  {
   "cell_type": "code",
   "execution_count": 317,
   "metadata": {},
   "outputs": [
    {
     "data": {
      "text/plain": [
       "State                                  object\n",
       "Participation(%)                      float64\n",
       "Evidence-Based Reading and Writing      int64\n",
       "Math                                    int64\n",
       "Total                                   int64\n",
       "dtype: object"
      ]
     },
     "execution_count": 317,
     "metadata": {},
     "output_type": "execute_result"
    }
   ],
   "source": [
    "sat_2017.dtypes"
   ]
  },
  {
   "cell_type": "code",
   "execution_count": 318,
   "metadata": {},
   "outputs": [
    {
     "data": {
      "text/html": [
       "<div>\n",
       "<style scoped>\n",
       "    .dataframe tbody tr th:only-of-type {\n",
       "        vertical-align: middle;\n",
       "    }\n",
       "\n",
       "    .dataframe tbody tr th {\n",
       "        vertical-align: top;\n",
       "    }\n",
       "\n",
       "    .dataframe thead th {\n",
       "        text-align: right;\n",
       "    }\n",
       "</style>\n",
       "<table border=\"1\" class=\"dataframe\">\n",
       "  <thead>\n",
       "    <tr style=\"text-align: right;\">\n",
       "      <th></th>\n",
       "      <th>State</th>\n",
       "      <th>Participation(%)</th>\n",
       "      <th>Evidence-Based Reading and Writing</th>\n",
       "      <th>Math</th>\n",
       "      <th>Total</th>\n",
       "    </tr>\n",
       "  </thead>\n",
       "  <tbody>\n",
       "    <tr>\n",
       "      <th>0</th>\n",
       "      <td>Alabama</td>\n",
       "      <td>5.0</td>\n",
       "      <td>593</td>\n",
       "      <td>572</td>\n",
       "      <td>1165</td>\n",
       "    </tr>\n",
       "    <tr>\n",
       "      <th>1</th>\n",
       "      <td>Alaska</td>\n",
       "      <td>38.0</td>\n",
       "      <td>547</td>\n",
       "      <td>533</td>\n",
       "      <td>1080</td>\n",
       "    </tr>\n",
       "  </tbody>\n",
       "</table>\n",
       "</div>"
      ],
      "text/plain": [
       "     State  Participation(%)  Evidence-Based Reading and Writing  Math  Total\n",
       "0  Alabama               5.0                                 593   572   1165\n",
       "1   Alaska              38.0                                 547   533   1080"
      ]
     },
     "execution_count": 318,
     "metadata": {},
     "output_type": "execute_result"
    }
   ],
   "source": [
    "sat_2017.head(2)"
   ]
  },
  {
   "cell_type": "code",
   "execution_count": 319,
   "metadata": {},
   "outputs": [
    {
     "data": {
      "text/plain": [
       "(51, 5)"
      ]
     },
     "execution_count": 319,
     "metadata": {},
     "output_type": "execute_result"
    }
   ],
   "source": [
    "sat_2017.shape"
   ]
  },
  {
   "cell_type": "markdown",
   "metadata": {},
   "source": [
    "#### 6. Fixing the incorrect data \n",
    "The incorrect data found in step 5."
   ]
  },
  {
   "cell_type": "code",
   "execution_count": 320,
   "metadata": {},
   "outputs": [],
   "source": [
    "# Remove row in 'National' under the 'State' from act_2017 so as to be consistent with\n",
    "# sat_2017 which does not have overall 'National' score result.\n",
    "def remove_state_from_df(df, xx):\n",
    "    try:\n",
    "        df.drop(df[df['State'] == xx].index, axis=0, inplace=True)\n",
    "    except:\n",
    "        print(f'Target dataframe does not contain {xx}')\n",
    "\n",
    "remove_state_from_df(act_2017, 'National')"
   ]
  },
  {
   "cell_type": "code",
   "execution_count": 321,
   "metadata": {},
   "outputs": [
    {
     "data": {
      "text/html": [
       "<div>\n",
       "<style scoped>\n",
       "    .dataframe tbody tr th:only-of-type {\n",
       "        vertical-align: middle;\n",
       "    }\n",
       "\n",
       "    .dataframe tbody tr th {\n",
       "        vertical-align: top;\n",
       "    }\n",
       "\n",
       "    .dataframe thead th {\n",
       "        text-align: right;\n",
       "    }\n",
       "</style>\n",
       "<table border=\"1\" class=\"dataframe\">\n",
       "  <thead>\n",
       "    <tr style=\"text-align: right;\">\n",
       "      <th></th>\n",
       "      <th>State</th>\n",
       "      <th>Participation(%)</th>\n",
       "      <th>English</th>\n",
       "      <th>Math</th>\n",
       "      <th>Reading</th>\n",
       "      <th>Science</th>\n",
       "      <th>Composite</th>\n",
       "    </tr>\n",
       "  </thead>\n",
       "  <tbody>\n",
       "    <tr>\n",
       "      <th>1</th>\n",
       "      <td>Alabama</td>\n",
       "      <td>100.0</td>\n",
       "      <td>18.9</td>\n",
       "      <td>18.4</td>\n",
       "      <td>19.7</td>\n",
       "      <td>19.4</td>\n",
       "      <td>19.2</td>\n",
       "    </tr>\n",
       "    <tr>\n",
       "      <th>2</th>\n",
       "      <td>Alaska</td>\n",
       "      <td>65.0</td>\n",
       "      <td>18.7</td>\n",
       "      <td>19.8</td>\n",
       "      <td>20.4</td>\n",
       "      <td>19.9</td>\n",
       "      <td>19.8</td>\n",
       "    </tr>\n",
       "    <tr>\n",
       "      <th>3</th>\n",
       "      <td>Arizona</td>\n",
       "      <td>62.0</td>\n",
       "      <td>18.6</td>\n",
       "      <td>19.8</td>\n",
       "      <td>20.1</td>\n",
       "      <td>19.8</td>\n",
       "      <td>19.7</td>\n",
       "    </tr>\n",
       "    <tr>\n",
       "      <th>4</th>\n",
       "      <td>Arkansas</td>\n",
       "      <td>100.0</td>\n",
       "      <td>18.9</td>\n",
       "      <td>19.0</td>\n",
       "      <td>19.7</td>\n",
       "      <td>19.5</td>\n",
       "      <td>19.4</td>\n",
       "    </tr>\n",
       "    <tr>\n",
       "      <th>5</th>\n",
       "      <td>California</td>\n",
       "      <td>31.0</td>\n",
       "      <td>22.5</td>\n",
       "      <td>22.7</td>\n",
       "      <td>23.1</td>\n",
       "      <td>22.2</td>\n",
       "      <td>22.8</td>\n",
       "    </tr>\n",
       "  </tbody>\n",
       "</table>\n",
       "</div>"
      ],
      "text/plain": [
       "        State  Participation(%)  English  Math  Reading  Science  Composite\n",
       "1     Alabama             100.0     18.9  18.4     19.7     19.4       19.2\n",
       "2      Alaska              65.0     18.7  19.8     20.4     19.9       19.8\n",
       "3     Arizona              62.0     18.6  19.8     20.1     19.8       19.7\n",
       "4    Arkansas             100.0     18.9  19.0     19.7     19.5       19.4\n",
       "5  California              31.0     22.5  22.7     23.1     22.2       22.8"
      ]
     },
     "execution_count": 321,
     "metadata": {},
     "output_type": "execute_result"
    }
   ],
   "source": [
    "# to comform the row 'National' is removed\n",
    "act_2017.head()"
   ]
  },
  {
   "cell_type": "markdown",
   "metadata": {},
   "source": [
    "#### 7. Rename columns \n",
    "Make column names to lowercase and not contain spaces. "
   ]
  },
  {
   "cell_type": "code",
   "execution_count": 322,
   "metadata": {},
   "outputs": [
    {
     "data": {
      "text/plain": [
       "Index(['state', 'participation(%)', 'english', 'math', 'reading', 'science',\n",
       "       'composite'],\n",
       "      dtype='object')"
      ]
     },
     "execution_count": 322,
     "metadata": {},
     "output_type": "execute_result"
    }
   ],
   "source": [
    "## Convert column names to lower case\n",
    "act_2017.columns = act_2017.columns.str.lower()\n",
    "act_2017.columns"
   ]
  },
  {
   "cell_type": "code",
   "execution_count": 323,
   "metadata": {},
   "outputs": [
    {
     "data": {
      "text/plain": [
       "Index(['state', 'participation(%)', 'evidence-based reading and writing',\n",
       "       'math', 'total'],\n",
       "      dtype='object')"
      ]
     },
     "execution_count": 323,
     "metadata": {},
     "output_type": "execute_result"
    }
   ],
   "source": [
    "## Convert column names to lower case\n",
    "sat_2017.columns = sat_2017.columns.str.lower()\n",
    "sat_2017.columns"
   ]
  },
  {
   "cell_type": "code",
   "execution_count": 324,
   "metadata": {},
   "outputs": [
    {
     "name": "stdout",
     "output_type": "stream",
     "text": [
      "Index(['state', 'participation(%)', 'english', 'math', 'reading', 'science',\n",
      "       'composite'],\n",
      "      dtype='object')\n",
      "Index(['state', 'participation(%)_act', 'english_act', 'math_act',\n",
      "       'reading_act', 'science_act', 'composite_act'],\n",
      "      dtype='object')\n"
     ]
    }
   ],
   "source": [
    "#Rename column names of act_2017\n",
    "# get the existing list of column headers \n",
    "print(act_2017.columns)\n",
    "# Modify the list with new column headers.\n",
    "newcolheaders = ['state', 'participation(%)_act','english_act', 'math_act', 'reading_act', 'science_act','composite_act']\n",
    "# Now rename all the columns \n",
    "act_2017.columns = newcolheaders\n",
    "print(act_2017.columns)"
   ]
  },
  {
   "cell_type": "code",
   "execution_count": 325,
   "metadata": {},
   "outputs": [
    {
     "name": "stdout",
     "output_type": "stream",
     "text": [
      "Index(['state', 'participation(%)', 'evidence-based reading and writing',\n",
      "       'math', 'total'],\n",
      "      dtype='object')\n",
      "Index(['state', 'participation(%)_sat', 'read_write_sat', 'math_sat',\n",
      "       'total_sat'],\n",
      "      dtype='object')\n"
     ]
    }
   ],
   "source": [
    "# Repeat for dataframe  sat_2017 to rename the columns\n",
    "print(sat_2017.columns)\n",
    "# Exsiting column headers\n",
    "newcolheaders = ['state', 'participation(%)_sat', 'read_write_sat', 'math_sat', \"total_sat\"]\n",
    "sat_2017.columns = newcolheaders\n",
    "print(sat_2017.columns)"
   ]
  },
  {
   "cell_type": "markdown",
   "metadata": {},
   "source": [
    "#### 8. Drop unnecessary row"
   ]
  },
  {
   "cell_type": "code",
   "execution_count": 326,
   "metadata": {},
   "outputs": [],
   "source": [
    "# answered : it is already fixed(droped) at section 6"
   ]
  },
  {
   "cell_type": "code",
   "execution_count": 327,
   "metadata": {},
   "outputs": [
    {
     "data": {
      "text/html": [
       "<div>\n",
       "<style scoped>\n",
       "    .dataframe tbody tr th:only-of-type {\n",
       "        vertical-align: middle;\n",
       "    }\n",
       "\n",
       "    .dataframe tbody tr th {\n",
       "        vertical-align: top;\n",
       "    }\n",
       "\n",
       "    .dataframe thead th {\n",
       "        text-align: right;\n",
       "    }\n",
       "</style>\n",
       "<table border=\"1\" class=\"dataframe\">\n",
       "  <thead>\n",
       "    <tr style=\"text-align: right;\">\n",
       "      <th></th>\n",
       "      <th>state</th>\n",
       "      <th>participation(%)_sat</th>\n",
       "      <th>read_write_sat</th>\n",
       "      <th>math_sat</th>\n",
       "      <th>total_sat</th>\n",
       "    </tr>\n",
       "  </thead>\n",
       "  <tbody>\n",
       "    <tr>\n",
       "      <th>0</th>\n",
       "      <td>Alabama</td>\n",
       "      <td>5.0</td>\n",
       "      <td>593</td>\n",
       "      <td>572</td>\n",
       "      <td>1165</td>\n",
       "    </tr>\n",
       "    <tr>\n",
       "      <th>1</th>\n",
       "      <td>Alaska</td>\n",
       "      <td>38.0</td>\n",
       "      <td>547</td>\n",
       "      <td>533</td>\n",
       "      <td>1080</td>\n",
       "    </tr>\n",
       "  </tbody>\n",
       "</table>\n",
       "</div>"
      ],
      "text/plain": [
       "     state  participation(%)_sat  read_write_sat  math_sat  total_sat\n",
       "0  Alabama                   5.0             593       572       1165\n",
       "1   Alaska                  38.0             547       533       1080"
      ]
     },
     "execution_count": 327,
     "metadata": {},
     "output_type": "execute_result"
    }
   ],
   "source": [
    "sat_2017.head(2)"
   ]
  },
  {
   "cell_type": "code",
   "execution_count": 328,
   "metadata": {},
   "outputs": [
    {
     "data": {
      "text/html": [
       "<div>\n",
       "<style scoped>\n",
       "    .dataframe tbody tr th:only-of-type {\n",
       "        vertical-align: middle;\n",
       "    }\n",
       "\n",
       "    .dataframe tbody tr th {\n",
       "        vertical-align: top;\n",
       "    }\n",
       "\n",
       "    .dataframe thead th {\n",
       "        text-align: right;\n",
       "    }\n",
       "</style>\n",
       "<table border=\"1\" class=\"dataframe\">\n",
       "  <thead>\n",
       "    <tr style=\"text-align: right;\">\n",
       "      <th></th>\n",
       "      <th>state</th>\n",
       "      <th>participation(%)_act</th>\n",
       "      <th>english_act</th>\n",
       "      <th>math_act</th>\n",
       "      <th>reading_act</th>\n",
       "      <th>science_act</th>\n",
       "      <th>composite_act</th>\n",
       "    </tr>\n",
       "  </thead>\n",
       "  <tbody>\n",
       "    <tr>\n",
       "      <th>1</th>\n",
       "      <td>Alabama</td>\n",
       "      <td>100.0</td>\n",
       "      <td>18.9</td>\n",
       "      <td>18.4</td>\n",
       "      <td>19.7</td>\n",
       "      <td>19.4</td>\n",
       "      <td>19.2</td>\n",
       "    </tr>\n",
       "    <tr>\n",
       "      <th>2</th>\n",
       "      <td>Alaska</td>\n",
       "      <td>65.0</td>\n",
       "      <td>18.7</td>\n",
       "      <td>19.8</td>\n",
       "      <td>20.4</td>\n",
       "      <td>19.9</td>\n",
       "      <td>19.8</td>\n",
       "    </tr>\n",
       "  </tbody>\n",
       "</table>\n",
       "</div>"
      ],
      "text/plain": [
       "     state  participation(%)_act  english_act  math_act  reading_act  \\\n",
       "1  Alabama                 100.0         18.9      18.4         19.7   \n",
       "2   Alaska                  65.0         18.7      19.8         20.4   \n",
       "\n",
       "   science_act  composite_act  \n",
       "1         19.4           19.2  \n",
       "2         19.9           19.8  "
      ]
     },
     "execution_count": 328,
     "metadata": {},
     "output_type": "execute_result"
    }
   ],
   "source": [
    "act_2017.head(2)"
   ]
  },
  {
   "cell_type": "code",
   "execution_count": 329,
   "metadata": {},
   "outputs": [
    {
     "data": {
      "text/plain": [
       "((51, 7), (51, 5))"
      ]
     },
     "execution_count": 329,
     "metadata": {},
     "output_type": "execute_result"
    }
   ],
   "source": [
    "act_2017.shape,sat_2017.shape"
   ]
  },
  {
   "cell_type": "markdown",
   "metadata": {},
   "source": [
    "#### 9. Merge dataframes "
   ]
  },
  {
   "cell_type": "code",
   "execution_count": 330,
   "metadata": {},
   "outputs": [],
   "source": [
    "# Merge act_2017 and sat_2017 dataframes\n",
    "act_sat_2017 = pd.merge(act_2017, sat_2017, how = 'inner', on = 'state')"
   ]
  },
  {
   "cell_type": "code",
   "execution_count": 331,
   "metadata": {},
   "outputs": [
    {
     "data": {
      "text/html": [
       "<div>\n",
       "<style scoped>\n",
       "    .dataframe tbody tr th:only-of-type {\n",
       "        vertical-align: middle;\n",
       "    }\n",
       "\n",
       "    .dataframe tbody tr th {\n",
       "        vertical-align: top;\n",
       "    }\n",
       "\n",
       "    .dataframe thead th {\n",
       "        text-align: right;\n",
       "    }\n",
       "</style>\n",
       "<table border=\"1\" class=\"dataframe\">\n",
       "  <thead>\n",
       "    <tr style=\"text-align: right;\">\n",
       "      <th></th>\n",
       "      <th>state</th>\n",
       "      <th>participation(%)_act</th>\n",
       "      <th>english_act</th>\n",
       "      <th>math_act</th>\n",
       "      <th>reading_act</th>\n",
       "      <th>science_act</th>\n",
       "      <th>composite_act</th>\n",
       "      <th>participation(%)_sat</th>\n",
       "      <th>read_write_sat</th>\n",
       "      <th>math_sat</th>\n",
       "      <th>total_sat</th>\n",
       "    </tr>\n",
       "  </thead>\n",
       "  <tbody>\n",
       "    <tr>\n",
       "      <th>0</th>\n",
       "      <td>Alabama</td>\n",
       "      <td>100.0</td>\n",
       "      <td>18.9</td>\n",
       "      <td>18.4</td>\n",
       "      <td>19.7</td>\n",
       "      <td>19.4</td>\n",
       "      <td>19.2</td>\n",
       "      <td>5.0</td>\n",
       "      <td>593</td>\n",
       "      <td>572</td>\n",
       "      <td>1165</td>\n",
       "    </tr>\n",
       "    <tr>\n",
       "      <th>1</th>\n",
       "      <td>Alaska</td>\n",
       "      <td>65.0</td>\n",
       "      <td>18.7</td>\n",
       "      <td>19.8</td>\n",
       "      <td>20.4</td>\n",
       "      <td>19.9</td>\n",
       "      <td>19.8</td>\n",
       "      <td>38.0</td>\n",
       "      <td>547</td>\n",
       "      <td>533</td>\n",
       "      <td>1080</td>\n",
       "    </tr>\n",
       "  </tbody>\n",
       "</table>\n",
       "</div>"
      ],
      "text/plain": [
       "     state  participation(%)_act  english_act  math_act  reading_act  \\\n",
       "0  Alabama                 100.0         18.9      18.4         19.7   \n",
       "1   Alaska                  65.0         18.7      19.8         20.4   \n",
       "\n",
       "   science_act  composite_act  participation(%)_sat  read_write_sat  math_sat  \\\n",
       "0         19.4           19.2                   5.0             593       572   \n",
       "1         19.9           19.8                  38.0             547       533   \n",
       "\n",
       "   total_sat  \n",
       "0       1165  \n",
       "1       1080  "
      ]
     },
     "execution_count": 331,
     "metadata": {},
     "output_type": "execute_result"
    }
   ],
   "source": [
    "act_sat_2017.head(2)"
   ]
  },
  {
   "cell_type": "code",
   "execution_count": 332,
   "metadata": {},
   "outputs": [
    {
     "data": {
      "text/plain": [
       "(51, 11)"
      ]
     },
     "execution_count": 332,
     "metadata": {},
     "output_type": "execute_result"
    }
   ],
   "source": [
    "#The merged datafram has the same number of total rows as the before merge \n",
    "act_sat_2017.shape"
   ]
  },
  {
   "cell_type": "markdown",
   "metadata": {},
   "source": [
    "#### 10 & 11. Additional cleaning and saving the merged dataframe\n",
    "Save the merged dataframe as csv file format.\n"
   ]
  },
  {
   "cell_type": "code",
   "execution_count": 333,
   "metadata": {},
   "outputs": [],
   "source": [
    "# Saving merged files of act_2017 and sat_2017 in csv format without index value.\n",
    "act_sat_2017.to_csv('../data/act_sat_2017_merged.csv', index=False)"
   ]
  },
  {
   "cell_type": "markdown",
   "metadata": {},
   "source": [
    "### Data Dictionary\n",
    "\n",
    "Now that we've fixed our data, and given it appropriate names, let's create a [data dictionary](http://library.ucmerced.edu/node/10249). \n",
    "\n",
    "A data dictionary provides a quick overview of features/variables/columns, alongside data types and descriptions. The more descriptive you can be, the more useful this document is.\n",
    "\n",
    "Example of a Fictional Data Dictionary Entry: \n",
    "\n",
    "|Feature|Type|Dataset|Description|\n",
    "|---|---|---|---|\n",
    "|**county_pop**|*integer*|2010 census|The population of the county (units in thousands, where 2.5 represents 2500 people).| \n",
    "|**per_poverty**|*float*|2010 census|The percent of the county over the age of 18 living below the 200% of official US poverty rate (units percent to two decimal places 98.10 means 98.1%)|\n",
    "\n",
    "[Here's a quick link to a short guide for formatting markdown in Jupyter notebooks](https://jupyter-notebook.readthedocs.io/en/stable/examples/Notebook/Working%20With%20Markdown%20Cells.html).\n",
    "\n",
    "Provided is the skeleton for formatting a markdown table, with columns headers that will help you create a data dictionary to quickly summarize your data, as well as some examples. **This would be a great thing to copy and paste into your custom README for this project.**\n",
    "\n",
    "*Note*: if you are unsure of what a feature is, check the source of the data! This can be found in the README."
   ]
  },
  {
   "cell_type": "code",
   "execution_count": 334,
   "metadata": {},
   "outputs": [
    {
     "name": "stdout",
     "output_type": "stream",
     "text": [
      "<class 'pandas.core.frame.DataFrame'>\n",
      "Int64Index: 51 entries, 0 to 50\n",
      "Data columns (total 11 columns):\n",
      " #   Column                Non-Null Count  Dtype  \n",
      "---  ------                --------------  -----  \n",
      " 0   state                 51 non-null     object \n",
      " 1   participation(%)_act  51 non-null     float64\n",
      " 2   english_act           51 non-null     float64\n",
      " 3   math_act              51 non-null     float64\n",
      " 4   reading_act           51 non-null     float64\n",
      " 5   science_act           51 non-null     float64\n",
      " 6   composite_act         51 non-null     float64\n",
      " 7   participation(%)_sat  51 non-null     float64\n",
      " 8   read_write_sat        51 non-null     int64  \n",
      " 9   math_sat              51 non-null     int64  \n",
      " 10  total_sat             51 non-null     int64  \n",
      "dtypes: float64(7), int64(3), object(1)\n",
      "memory usage: 4.8+ KB\n"
     ]
    }
   ],
   "source": [
    "act_sat_2017.info()"
   ]
  },
  {
   "cell_type": "code",
   "execution_count": 335,
   "metadata": {},
   "outputs": [
    {
     "data": {
      "text/plain": [
       "Index(['state', 'participation(%)_act', 'english_act', 'math_act',\n",
       "       'reading_act', 'science_act', 'composite_act'],\n",
       "      dtype='object')"
      ]
     },
     "execution_count": 335,
     "metadata": {},
     "output_type": "execute_result"
    }
   ],
   "source": [
    "act_2017.columns"
   ]
  },
  {
   "cell_type": "code",
   "execution_count": 336,
   "metadata": {},
   "outputs": [
    {
     "data": {
      "text/plain": [
       "Index(['state', 'participation(%)_sat', 'read_write_sat', 'math_sat',\n",
       "       'total_sat'],\n",
       "      dtype='object')"
      ]
     },
     "execution_count": 336,
     "metadata": {},
     "output_type": "execute_result"
    }
   ],
   "source": [
    "sat_2017.columns"
   ]
  },
  {
   "cell_type": "markdown",
   "metadata": {},
   "source": [
    "*Data dictionary for the SAT and CAT 2017.*\n",
    " \n",
    "| Feature                      | Type      | Dataset   | Description                                                  |\n",
    "| ---------------------------- | --------- | --------- | ------------------------------------------------------------ |\n",
    "| **state**                    | *object*  | ACT / SAT | USA staes for the tests                                       |\n",
    "| **participation(%)_sat**     | *float64* | SAT       | Participation Percentage results of the SAT 2017 ranging from 2 to 100.|\n",
    "| **math_sat**                 | *int64*   | SAT       | 75% of the students in the SAT 2017 Math score below 599 and the mean of the score is 547. \n",
    "| **read_write_sat**           | *int64*   | SAT       | 75% of the students in the SAT 2017 Read and Write score below 613 and the mean of the score is 569. |\n",
    "| **total_sat**                | *int64*   | SAT       | 75% of the students in the SAT 2017 Total score below 1212 and the mean of the score is 1126.     |\n",
    "| **participation%_act**       | *float64* | ACT       | Participation Percentage results of the ACT 2017 ranging from 8 to 100                  |\n",
    "| **english_act**              | *float64* | ACT       | 75% of the students in the ACT 2017 English score below 23 and the mean of the score is 20.9. |\n",
    "| **math_act**                 | *float64* | ACT      | 75% of the students in the ACT 2017 Math score below 23 and the mean of the score is 21.2.|\n",
    "| **read_act**                 | *float64* | ACT       | 75% of the students in the ACT 2017 Read score below 24 and the mean of the score is 22 |\n",
    "| **science_act**              | *float64* | ACT       | 75% of the students in the SAT 2017 Science score below 22.8 and the mean of the score is 21.0. |\n",
    "| **composite_act**            | *float64*  | ACT      | 75% of the students in the ACT 2017 Composite score below 23.6 and the mean of the score is 21.5. |"
   ]
  },
  {
   "cell_type": "markdown",
   "metadata": {},
   "source": [
    "## Exploratory Data Analysis\n",
    "#### 1. Summary Statistics.."
   ]
  },
  {
   "cell_type": "code",
   "execution_count": 337,
   "metadata": {},
   "outputs": [
    {
     "data": {
      "text/html": [
       "<div>\n",
       "<style scoped>\n",
       "    .dataframe tbody tr th:only-of-type {\n",
       "        vertical-align: middle;\n",
       "    }\n",
       "\n",
       "    .dataframe tbody tr th {\n",
       "        vertical-align: top;\n",
       "    }\n",
       "\n",
       "    .dataframe thead th {\n",
       "        text-align: right;\n",
       "    }\n",
       "</style>\n",
       "<table border=\"1\" class=\"dataframe\">\n",
       "  <thead>\n",
       "    <tr style=\"text-align: right;\">\n",
       "      <th></th>\n",
       "      <th>participation(%)_act</th>\n",
       "      <th>english_act</th>\n",
       "      <th>math_act</th>\n",
       "      <th>reading_act</th>\n",
       "      <th>science_act</th>\n",
       "      <th>composite_act</th>\n",
       "      <th>participation(%)_sat</th>\n",
       "      <th>read_write_sat</th>\n",
       "      <th>math_sat</th>\n",
       "      <th>total_sat</th>\n",
       "    </tr>\n",
       "  </thead>\n",
       "  <tbody>\n",
       "    <tr>\n",
       "      <th>count</th>\n",
       "      <td>51.00</td>\n",
       "      <td>51.00</td>\n",
       "      <td>51.00</td>\n",
       "      <td>51.00</td>\n",
       "      <td>51.00</td>\n",
       "      <td>51.00</td>\n",
       "      <td>51.00</td>\n",
       "      <td>51.00</td>\n",
       "      <td>51.00</td>\n",
       "      <td>51.00</td>\n",
       "    </tr>\n",
       "    <tr>\n",
       "      <th>mean</th>\n",
       "      <td>65.25</td>\n",
       "      <td>20.93</td>\n",
       "      <td>21.18</td>\n",
       "      <td>22.01</td>\n",
       "      <td>21.04</td>\n",
       "      <td>21.52</td>\n",
       "      <td>39.80</td>\n",
       "      <td>569.12</td>\n",
       "      <td>547.63</td>\n",
       "      <td>1126.10</td>\n",
       "    </tr>\n",
       "    <tr>\n",
       "      <th>std</th>\n",
       "      <td>32.14</td>\n",
       "      <td>2.35</td>\n",
       "      <td>1.98</td>\n",
       "      <td>2.07</td>\n",
       "      <td>3.18</td>\n",
       "      <td>2.02</td>\n",
       "      <td>35.28</td>\n",
       "      <td>45.67</td>\n",
       "      <td>84.91</td>\n",
       "      <td>92.49</td>\n",
       "    </tr>\n",
       "    <tr>\n",
       "      <th>min</th>\n",
       "      <td>8.00</td>\n",
       "      <td>16.30</td>\n",
       "      <td>18.00</td>\n",
       "      <td>18.10</td>\n",
       "      <td>2.30</td>\n",
       "      <td>17.80</td>\n",
       "      <td>2.00</td>\n",
       "      <td>482.00</td>\n",
       "      <td>52.00</td>\n",
       "      <td>950.00</td>\n",
       "    </tr>\n",
       "    <tr>\n",
       "      <th>25%</th>\n",
       "      <td>31.00</td>\n",
       "      <td>19.00</td>\n",
       "      <td>19.40</td>\n",
       "      <td>20.45</td>\n",
       "      <td>19.90</td>\n",
       "      <td>19.80</td>\n",
       "      <td>4.00</td>\n",
       "      <td>533.50</td>\n",
       "      <td>522.00</td>\n",
       "      <td>1055.50</td>\n",
       "    </tr>\n",
       "    <tr>\n",
       "      <th>50%</th>\n",
       "      <td>69.00</td>\n",
       "      <td>20.70</td>\n",
       "      <td>20.90</td>\n",
       "      <td>21.80</td>\n",
       "      <td>21.30</td>\n",
       "      <td>21.40</td>\n",
       "      <td>38.00</td>\n",
       "      <td>559.00</td>\n",
       "      <td>548.00</td>\n",
       "      <td>1107.00</td>\n",
       "    </tr>\n",
       "    <tr>\n",
       "      <th>75%</th>\n",
       "      <td>100.00</td>\n",
       "      <td>23.30</td>\n",
       "      <td>23.10</td>\n",
       "      <td>24.15</td>\n",
       "      <td>22.75</td>\n",
       "      <td>23.60</td>\n",
       "      <td>66.00</td>\n",
       "      <td>613.00</td>\n",
       "      <td>599.00</td>\n",
       "      <td>1212.00</td>\n",
       "    </tr>\n",
       "    <tr>\n",
       "      <th>max</th>\n",
       "      <td>100.00</td>\n",
       "      <td>25.50</td>\n",
       "      <td>25.30</td>\n",
       "      <td>26.00</td>\n",
       "      <td>24.90</td>\n",
       "      <td>25.50</td>\n",
       "      <td>100.00</td>\n",
       "      <td>644.00</td>\n",
       "      <td>651.00</td>\n",
       "      <td>1295.00</td>\n",
       "    </tr>\n",
       "  </tbody>\n",
       "</table>\n",
       "</div>"
      ],
      "text/plain": [
       "       participation(%)_act  english_act  math_act  reading_act  science_act  \\\n",
       "count                 51.00        51.00     51.00        51.00        51.00   \n",
       "mean                  65.25        20.93     21.18        22.01        21.04   \n",
       "std                   32.14         2.35      1.98         2.07         3.18   \n",
       "min                    8.00        16.30     18.00        18.10         2.30   \n",
       "25%                   31.00        19.00     19.40        20.45        19.90   \n",
       "50%                   69.00        20.70     20.90        21.80        21.30   \n",
       "75%                  100.00        23.30     23.10        24.15        22.75   \n",
       "max                  100.00        25.50     25.30        26.00        24.90   \n",
       "\n",
       "       composite_act  participation(%)_sat  read_write_sat  math_sat  \\\n",
       "count          51.00                 51.00           51.00     51.00   \n",
       "mean           21.52                 39.80          569.12    547.63   \n",
       "std             2.02                 35.28           45.67     84.91   \n",
       "min            17.80                  2.00          482.00     52.00   \n",
       "25%            19.80                  4.00          533.50    522.00   \n",
       "50%            21.40                 38.00          559.00    548.00   \n",
       "75%            23.60                 66.00          613.00    599.00   \n",
       "max            25.50                100.00          644.00    651.00   \n",
       "\n",
       "       total_sat  \n",
       "count      51.00  \n",
       "mean     1126.10  \n",
       "std        92.49  \n",
       "min       950.00  \n",
       "25%      1055.50  \n",
       "50%      1107.00  \n",
       "75%      1212.00  \n",
       "max      1295.00  "
      ]
     },
     "execution_count": 337,
     "metadata": {},
     "output_type": "execute_result"
    }
   ],
   "source": [
    "# Statistical summery of the data\n",
    "round(act_sat_2017.describe(), 2)"
   ]
  },
  {
   "cell_type": "markdown",
   "metadata": {},
   "source": [
    "####  2.  Calculate the standard deviation"
   ]
  },
  {
   "cell_type": "markdown",
   "metadata": {},
   "source": [
    "##### Standard deviation formula\n",
    "Manually calculate standard deviation\n",
    "\n",
    "$$\\sigma = \\sqrt{\\frac{1}{n}\\sum_{i=1}^n(x_i - \\mu)^2}$$\n",
    "\n",
    "- Fuction to calculate the standard deviation"
   ]
  },
  {
   "cell_type": "code",
   "execution_count": 338,
   "metadata": {},
   "outputs": [],
   "source": [
    "def standard_deviation(num):\n",
    "    n = len(num)\n",
    "    mean = sum(num)/n\n",
    "    deviations = [(i - mean) ** 2 for i in num]\n",
    "    sum_deviations = sum(deviations)/n\n",
    "    stdv=(sum_deviations)**.5\n",
    "    return stdv"
   ]
  },
  {
   "cell_type": "markdown",
   "metadata": {},
   "source": [
    "Use a **dictionary comprehension** to apply the standard deviation function created in part 1 to each numeric column in the dataframe.  **No loops**.\n",
    "        \n",
    " - Assign the output to variable `sd` as a dictionary where: \n",
    "    - Each column name is now a key \n",
    "    - That standard deviation of the column is the value \n",
    "     \n",
    "*Example Output :* `{'ACT_Math': 120, 'ACT_Reading': 120, ...}`"
   ]
  },
  {
   "cell_type": "code",
   "execution_count": 339,
   "metadata": {},
   "outputs": [
    {
     "data": {
      "text/plain": [
       "array([593, 547, 563, 614, 531, 606, 530, 503, 482, 520, 535, 544, 513,\n",
       "       559, 542, 641, 632, 631, 611, 513, 536, 555, 509, 644, 634, 640,\n",
       "       605, 629, 563, 532, 530, 577, 528, 546, 635, 578, 530, 560, 540,\n",
       "       539, 543, 612, 623, 513, 624, 562, 561, 541, 558, 642, 626],\n",
       "      dtype=int64)"
      ]
     },
     "execution_count": 339,
     "metadata": {},
     "output_type": "execute_result"
    }
   ],
   "source": [
    "act_sat_2017['read_write_sat'].values"
   ]
  },
  {
   "cell_type": "code",
   "execution_count": 340,
   "metadata": {},
   "outputs": [
    {
     "data": {
      "text/plain": [
       "{'participation(%)_act': 31.824175751231806,\n",
       " 'english_act': 2.3304876369363363,\n",
       " 'math_act': 1.9624620273436781,\n",
       " 'reading_act': 2.0469029314842646,\n",
       " 'science_act': 3.151107895464408,\n",
       " 'composite_act': 2.000786081581989,\n",
       " 'participation(%)_sat': 34.92907076664508,\n",
       " 'read_write_sat': 45.21697020437866,\n",
       " 'math_sat': 84.07255521608297,\n",
       " 'total_sat': 91.58351056778743}"
      ]
     },
     "execution_count": 340,
     "metadata": {},
     "output_type": "execute_result"
    }
   ],
   "source": [
    "{xx:standard_deviation(act_sat_2017[xx].values) for xx in act_sat_2017 if xx != 'state'}"
   ]
  },
  {
   "cell_type": "code",
   "execution_count": 341,
   "metadata": {},
   "outputs": [
    {
     "data": {
      "text/plain": [
       "1.9624620273436781"
      ]
     },
     "execution_count": 341,
     "metadata": {},
     "output_type": "execute_result"
    }
   ],
   "source": [
    "np.std(act_sat_2017['math_act'].values)"
   ]
  },
  {
   "cell_type": "markdown",
   "metadata": {},
   "source": [
    "###### Answer :\n",
    "The manually calculated standard deviations is match up with the ouput from numpy's std method.  "
   ]
  },
  {
   "cell_type": "markdown",
   "metadata": {},
   "source": [
    "#### 3. Investigate trends in the data\n",
    "\n",
    "Using sorting and/or masking (along with the `.head` method to not print our entire dataframe), consider the following questions:\n",
    "\n",
    "- Which states have the highest and lowest participation rates for the:\n",
    "    - 2017 SAT?\n",
    "    - 2017 ACT?\n",
    "   \n",
    "- Which states have the highest and lowest mean total/composite scores for the:\n",
    "    - 2017 SAT?\n",
    "    - 2017 ACT?\n",
    "    \n",
    "- Do any states with 100% participation on a given test?\n",
    "- Do any states show have >50% participation on *both* tests?\n"
   ]
  },
  {
   "cell_type": "markdown",
   "metadata": {},
   "source": [
    "#####  Which states have the highest and lowest participation rates for the:"
   ]
  },
  {
   "cell_type": "code",
   "execution_count": 342,
   "metadata": {},
   "outputs": [
    {
     "data": {
      "text/html": [
       "<div>\n",
       "<style scoped>\n",
       "    .dataframe tbody tr th:only-of-type {\n",
       "        vertical-align: middle;\n",
       "    }\n",
       "\n",
       "    .dataframe tbody tr th {\n",
       "        vertical-align: top;\n",
       "    }\n",
       "\n",
       "    .dataframe thead th {\n",
       "        text-align: right;\n",
       "    }\n",
       "</style>\n",
       "<table border=\"1\" class=\"dataframe\">\n",
       "  <thead>\n",
       "    <tr style=\"text-align: right;\">\n",
       "      <th></th>\n",
       "      <th>state</th>\n",
       "      <th>participation(%)_sat</th>\n",
       "    </tr>\n",
       "  </thead>\n",
       "  <tbody>\n",
       "    <tr>\n",
       "      <th>34</th>\n",
       "      <td>North Dakota</td>\n",
       "      <td>2.0</td>\n",
       "    </tr>\n",
       "    <tr>\n",
       "      <th>24</th>\n",
       "      <td>Mississippi</td>\n",
       "      <td>2.0</td>\n",
       "    </tr>\n",
       "    <tr>\n",
       "      <th>15</th>\n",
       "      <td>Iowa</td>\n",
       "      <td>2.0</td>\n",
       "    </tr>\n",
       "    <tr>\n",
       "      <th>25</th>\n",
       "      <td>Missouri</td>\n",
       "      <td>3.0</td>\n",
       "    </tr>\n",
       "    <tr>\n",
       "      <th>44</th>\n",
       "      <td>Utah</td>\n",
       "      <td>3.0</td>\n",
       "    </tr>\n",
       "  </tbody>\n",
       "</table>\n",
       "</div>"
      ],
      "text/plain": [
       "           state  participation(%)_sat\n",
       "34  North Dakota                   2.0\n",
       "24   Mississippi                   2.0\n",
       "15          Iowa                   2.0\n",
       "25      Missouri                   3.0\n",
       "44          Utah                   3.0"
      ]
     },
     "execution_count": 342,
     "metadata": {},
     "output_type": "execute_result"
    }
   ],
   "source": [
    "#The lowest participation score of SAT\n",
    "act_sat_2017.sort_values('participation(%)_sat')[['state', 'participation(%)_sat']].head() "
   ]
  },
  {
   "cell_type": "code",
   "execution_count": 343,
   "metadata": {},
   "outputs": [
    {
     "data": {
      "text/html": [
       "<div>\n",
       "<style scoped>\n",
       "    .dataframe tbody tr th:only-of-type {\n",
       "        vertical-align: middle;\n",
       "    }\n",
       "\n",
       "    .dataframe tbody tr th {\n",
       "        vertical-align: top;\n",
       "    }\n",
       "\n",
       "    .dataframe thead th {\n",
       "        text-align: right;\n",
       "    }\n",
       "</style>\n",
       "<table border=\"1\" class=\"dataframe\">\n",
       "  <thead>\n",
       "    <tr style=\"text-align: right;\">\n",
       "      <th></th>\n",
       "      <th>state</th>\n",
       "      <th>participation(%)_sat</th>\n",
       "    </tr>\n",
       "  </thead>\n",
       "  <tbody>\n",
       "    <tr>\n",
       "      <th>29</th>\n",
       "      <td>New Hampshire</td>\n",
       "      <td>96.0</td>\n",
       "    </tr>\n",
       "    <tr>\n",
       "      <th>22</th>\n",
       "      <td>Michigan</td>\n",
       "      <td>100.0</td>\n",
       "    </tr>\n",
       "    <tr>\n",
       "      <th>8</th>\n",
       "      <td>District of Columbia</td>\n",
       "      <td>100.0</td>\n",
       "    </tr>\n",
       "    <tr>\n",
       "      <th>7</th>\n",
       "      <td>Delaware</td>\n",
       "      <td>100.0</td>\n",
       "    </tr>\n",
       "    <tr>\n",
       "      <th>6</th>\n",
       "      <td>Connecticut</td>\n",
       "      <td>100.0</td>\n",
       "    </tr>\n",
       "  </tbody>\n",
       "</table>\n",
       "</div>"
      ],
      "text/plain": [
       "                   state  participation(%)_sat\n",
       "29         New Hampshire                  96.0\n",
       "22              Michigan                 100.0\n",
       "8   District of Columbia                 100.0\n",
       "7               Delaware                 100.0\n",
       "6            Connecticut                 100.0"
      ]
     },
     "execution_count": 343,
     "metadata": {},
     "output_type": "execute_result"
    }
   ],
   "source": [
    "# The highest participation score of SAT\n",
    "act_sat_2017.sort_values('participation(%)_sat')[['state', 'participation(%)_sat']].tail() "
   ]
  },
  {
   "cell_type": "code",
   "execution_count": 344,
   "metadata": {},
   "outputs": [
    {
     "data": {
      "text/html": [
       "<div>\n",
       "<style scoped>\n",
       "    .dataframe tbody tr th:only-of-type {\n",
       "        vertical-align: middle;\n",
       "    }\n",
       "\n",
       "    .dataframe tbody tr th {\n",
       "        vertical-align: top;\n",
       "    }\n",
       "\n",
       "    .dataframe thead th {\n",
       "        text-align: right;\n",
       "    }\n",
       "</style>\n",
       "<table border=\"1\" class=\"dataframe\">\n",
       "  <thead>\n",
       "    <tr style=\"text-align: right;\">\n",
       "      <th></th>\n",
       "      <th>state</th>\n",
       "      <th>participation(%)_act</th>\n",
       "    </tr>\n",
       "  </thead>\n",
       "  <tbody>\n",
       "    <tr>\n",
       "      <th>19</th>\n",
       "      <td>Maine</td>\n",
       "      <td>8.0</td>\n",
       "    </tr>\n",
       "    <tr>\n",
       "      <th>29</th>\n",
       "      <td>New Hampshire</td>\n",
       "      <td>18.0</td>\n",
       "    </tr>\n",
       "    <tr>\n",
       "      <th>7</th>\n",
       "      <td>Delaware</td>\n",
       "      <td>18.0</td>\n",
       "    </tr>\n",
       "    <tr>\n",
       "      <th>39</th>\n",
       "      <td>Rhode Island</td>\n",
       "      <td>21.0</td>\n",
       "    </tr>\n",
       "    <tr>\n",
       "      <th>38</th>\n",
       "      <td>Pennsylvania</td>\n",
       "      <td>23.0</td>\n",
       "    </tr>\n",
       "  </tbody>\n",
       "</table>\n",
       "</div>"
      ],
      "text/plain": [
       "            state  participation(%)_act\n",
       "19          Maine                   8.0\n",
       "29  New Hampshire                  18.0\n",
       "7        Delaware                  18.0\n",
       "39   Rhode Island                  21.0\n",
       "38   Pennsylvania                  23.0"
      ]
     },
     "execution_count": 344,
     "metadata": {},
     "output_type": "execute_result"
    }
   ],
   "source": [
    "#The lowest participation score of ACT\n",
    "act_sat_2017.sort_values('participation(%)_act')[['state', 'participation(%)_act']].head() "
   ]
  },
  {
   "cell_type": "code",
   "execution_count": 345,
   "metadata": {},
   "outputs": [
    {
     "data": {
      "text/html": [
       "<div>\n",
       "<style scoped>\n",
       "    .dataframe tbody tr th:only-of-type {\n",
       "        vertical-align: middle;\n",
       "    }\n",
       "\n",
       "    .dataframe tbody tr th {\n",
       "        vertical-align: top;\n",
       "    }\n",
       "\n",
       "    .dataframe thead th {\n",
       "        text-align: right;\n",
       "    }\n",
       "</style>\n",
       "<table border=\"1\" class=\"dataframe\">\n",
       "  <thead>\n",
       "    <tr style=\"text-align: right;\">\n",
       "      <th></th>\n",
       "      <th>state</th>\n",
       "      <th>participation(%)_act</th>\n",
       "    </tr>\n",
       "  </thead>\n",
       "  <tbody>\n",
       "    <tr>\n",
       "      <th>11</th>\n",
       "      <td>Hawaii</td>\n",
       "      <td>90.0</td>\n",
       "    </tr>\n",
       "    <tr>\n",
       "      <th>13</th>\n",
       "      <td>Illinois</td>\n",
       "      <td>93.0</td>\n",
       "    </tr>\n",
       "    <tr>\n",
       "      <th>34</th>\n",
       "      <td>North Dakota</td>\n",
       "      <td>98.0</td>\n",
       "    </tr>\n",
       "    <tr>\n",
       "      <th>40</th>\n",
       "      <td>South Carolina</td>\n",
       "      <td>100.0</td>\n",
       "    </tr>\n",
       "    <tr>\n",
       "      <th>44</th>\n",
       "      <td>Utah</td>\n",
       "      <td>100.0</td>\n",
       "    </tr>\n",
       "    <tr>\n",
       "      <th>42</th>\n",
       "      <td>Tennessee</td>\n",
       "      <td>100.0</td>\n",
       "    </tr>\n",
       "    <tr>\n",
       "      <th>0</th>\n",
       "      <td>Alabama</td>\n",
       "      <td>100.0</td>\n",
       "    </tr>\n",
       "    <tr>\n",
       "      <th>25</th>\n",
       "      <td>Missouri</td>\n",
       "      <td>100.0</td>\n",
       "    </tr>\n",
       "    <tr>\n",
       "      <th>33</th>\n",
       "      <td>North Carolina</td>\n",
       "      <td>100.0</td>\n",
       "    </tr>\n",
       "    <tr>\n",
       "      <th>28</th>\n",
       "      <td>Nevada</td>\n",
       "      <td>100.0</td>\n",
       "    </tr>\n",
       "    <tr>\n",
       "      <th>26</th>\n",
       "      <td>Montana</td>\n",
       "      <td>100.0</td>\n",
       "    </tr>\n",
       "    <tr>\n",
       "      <th>49</th>\n",
       "      <td>Wisconsin</td>\n",
       "      <td>100.0</td>\n",
       "    </tr>\n",
       "    <tr>\n",
       "      <th>24</th>\n",
       "      <td>Mississippi</td>\n",
       "      <td>100.0</td>\n",
       "    </tr>\n",
       "    <tr>\n",
       "      <th>23</th>\n",
       "      <td>Minnesota</td>\n",
       "      <td>100.0</td>\n",
       "    </tr>\n",
       "    <tr>\n",
       "      <th>18</th>\n",
       "      <td>Louisiana</td>\n",
       "      <td>100.0</td>\n",
       "    </tr>\n",
       "    <tr>\n",
       "      <th>17</th>\n",
       "      <td>Kentucky</td>\n",
       "      <td>100.0</td>\n",
       "    </tr>\n",
       "    <tr>\n",
       "      <th>5</th>\n",
       "      <td>Colorado</td>\n",
       "      <td>100.0</td>\n",
       "    </tr>\n",
       "    <tr>\n",
       "      <th>3</th>\n",
       "      <td>Arkansas</td>\n",
       "      <td>100.0</td>\n",
       "    </tr>\n",
       "    <tr>\n",
       "      <th>36</th>\n",
       "      <td>Oklahoma</td>\n",
       "      <td>100.0</td>\n",
       "    </tr>\n",
       "    <tr>\n",
       "      <th>50</th>\n",
       "      <td>Wyoming</td>\n",
       "      <td>100.0</td>\n",
       "    </tr>\n",
       "  </tbody>\n",
       "</table>\n",
       "</div>"
      ],
      "text/plain": [
       "             state  participation(%)_act\n",
       "11          Hawaii                  90.0\n",
       "13        Illinois                  93.0\n",
       "34    North Dakota                  98.0\n",
       "40  South Carolina                 100.0\n",
       "44            Utah                 100.0\n",
       "42       Tennessee                 100.0\n",
       "0          Alabama                 100.0\n",
       "25        Missouri                 100.0\n",
       "33  North Carolina                 100.0\n",
       "28          Nevada                 100.0\n",
       "26         Montana                 100.0\n",
       "49       Wisconsin                 100.0\n",
       "24     Mississippi                 100.0\n",
       "23       Minnesota                 100.0\n",
       "18       Louisiana                 100.0\n",
       "17        Kentucky                 100.0\n",
       "5         Colorado                 100.0\n",
       "3         Arkansas                 100.0\n",
       "36        Oklahoma                 100.0\n",
       "50         Wyoming                 100.0"
      ]
     },
     "execution_count": 345,
     "metadata": {},
     "output_type": "execute_result"
    }
   ],
   "source": [
    "# The highest participation score of ACT\n",
    "act_sat_2017.sort_values('participation(%)_act')[['state', 'participation(%)_act']].tail(20) "
   ]
  },
  {
   "cell_type": "markdown",
   "metadata": {},
   "source": [
    "Answer \n",
    " - 2017 SAT:  North Dakota has the lowest particpation rate whereas Connecticut has the highest particpation \n",
    " - 2017 ACT:  Maine has the lowest particpation rate whereas Wyoming has the highest particpation        "
   ]
  },
  {
   "cell_type": "markdown",
   "metadata": {},
   "source": [
    "#### Which states have the highest and lowest mean total/composite scores for the:"
   ]
  },
  {
   "cell_type": "code",
   "execution_count": 346,
   "metadata": {},
   "outputs": [
    {
     "data": {
      "text/html": [
       "<div>\n",
       "<style scoped>\n",
       "    .dataframe tbody tr th:only-of-type {\n",
       "        vertical-align: middle;\n",
       "    }\n",
       "\n",
       "    .dataframe tbody tr th {\n",
       "        vertical-align: top;\n",
       "    }\n",
       "\n",
       "    .dataframe thead th {\n",
       "        text-align: right;\n",
       "    }\n",
       "</style>\n",
       "<table border=\"1\" class=\"dataframe\">\n",
       "  <thead>\n",
       "    <tr style=\"text-align: right;\">\n",
       "      <th></th>\n",
       "      <th>state</th>\n",
       "      <th>total_sat</th>\n",
       "    </tr>\n",
       "  </thead>\n",
       "  <tbody>\n",
       "    <tr>\n",
       "      <th>8</th>\n",
       "      <td>District of Columbia</td>\n",
       "      <td>950</td>\n",
       "    </tr>\n",
       "    <tr>\n",
       "      <th>7</th>\n",
       "      <td>Delaware</td>\n",
       "      <td>996</td>\n",
       "    </tr>\n",
       "    <tr>\n",
       "      <th>12</th>\n",
       "      <td>Idaho</td>\n",
       "      <td>1005</td>\n",
       "    </tr>\n",
       "    <tr>\n",
       "      <th>22</th>\n",
       "      <td>Michigan</td>\n",
       "      <td>1005</td>\n",
       "    </tr>\n",
       "    <tr>\n",
       "      <th>19</th>\n",
       "      <td>Maine</td>\n",
       "      <td>1012</td>\n",
       "    </tr>\n",
       "  </tbody>\n",
       "</table>\n",
       "</div>"
      ],
      "text/plain": [
       "                   state  total_sat\n",
       "8   District of Columbia        950\n",
       "7               Delaware        996\n",
       "12                 Idaho       1005\n",
       "22              Michigan       1005\n",
       "19                 Maine       1012"
      ]
     },
     "execution_count": 346,
     "metadata": {},
     "output_type": "execute_result"
    }
   ],
   "source": [
    "# The lowest mean of total score of SAT\n",
    "act_sat_2017.sort_values('total_sat')[['state', 'total_sat']].head()"
   ]
  },
  {
   "cell_type": "code",
   "execution_count": 347,
   "metadata": {},
   "outputs": [
    {
     "data": {
      "text/html": [
       "<div>\n",
       "<style scoped>\n",
       "    .dataframe tbody tr th:only-of-type {\n",
       "        vertical-align: middle;\n",
       "    }\n",
       "\n",
       "    .dataframe tbody tr th {\n",
       "        vertical-align: top;\n",
       "    }\n",
       "\n",
       "    .dataframe thead th {\n",
       "        text-align: right;\n",
       "    }\n",
       "</style>\n",
       "<table border=\"1\" class=\"dataframe\">\n",
       "  <thead>\n",
       "    <tr style=\"text-align: right;\">\n",
       "      <th></th>\n",
       "      <th>state</th>\n",
       "      <th>total_sat</th>\n",
       "    </tr>\n",
       "  </thead>\n",
       "  <tbody>\n",
       "    <tr>\n",
       "      <th>16</th>\n",
       "      <td>Kansas</td>\n",
       "      <td>1260</td>\n",
       "    </tr>\n",
       "    <tr>\n",
       "      <th>25</th>\n",
       "      <td>Missouri</td>\n",
       "      <td>1271</td>\n",
       "    </tr>\n",
       "    <tr>\n",
       "      <th>15</th>\n",
       "      <td>Iowa</td>\n",
       "      <td>1275</td>\n",
       "    </tr>\n",
       "    <tr>\n",
       "      <th>49</th>\n",
       "      <td>Wisconsin</td>\n",
       "      <td>1291</td>\n",
       "    </tr>\n",
       "    <tr>\n",
       "      <th>23</th>\n",
       "      <td>Minnesota</td>\n",
       "      <td>1295</td>\n",
       "    </tr>\n",
       "  </tbody>\n",
       "</table>\n",
       "</div>"
      ],
      "text/plain": [
       "        state  total_sat\n",
       "16     Kansas       1260\n",
       "25   Missouri       1271\n",
       "15       Iowa       1275\n",
       "49  Wisconsin       1291\n",
       "23  Minnesota       1295"
      ]
     },
     "execution_count": 347,
     "metadata": {},
     "output_type": "execute_result"
    }
   ],
   "source": [
    "# The highest mean of total score of SAT\n",
    "act_sat_2017.sort_values('total_sat')[['state', 'total_sat']].tail()"
   ]
  },
  {
   "cell_type": "code",
   "execution_count": 348,
   "metadata": {},
   "outputs": [
    {
     "data": {
      "text/html": [
       "<div>\n",
       "<style scoped>\n",
       "    .dataframe tbody tr th:only-of-type {\n",
       "        vertical-align: middle;\n",
       "    }\n",
       "\n",
       "    .dataframe tbody tr th {\n",
       "        vertical-align: top;\n",
       "    }\n",
       "\n",
       "    .dataframe thead th {\n",
       "        text-align: right;\n",
       "    }\n",
       "</style>\n",
       "<table border=\"1\" class=\"dataframe\">\n",
       "  <thead>\n",
       "    <tr style=\"text-align: right;\">\n",
       "      <th></th>\n",
       "      <th>state</th>\n",
       "      <th>composite_act</th>\n",
       "    </tr>\n",
       "  </thead>\n",
       "  <tbody>\n",
       "    <tr>\n",
       "      <th>28</th>\n",
       "      <td>Nevada</td>\n",
       "      <td>17.8</td>\n",
       "    </tr>\n",
       "    <tr>\n",
       "      <th>24</th>\n",
       "      <td>Mississippi</td>\n",
       "      <td>18.6</td>\n",
       "    </tr>\n",
       "    <tr>\n",
       "      <th>40</th>\n",
       "      <td>South Carolina</td>\n",
       "      <td>18.7</td>\n",
       "    </tr>\n",
       "    <tr>\n",
       "      <th>11</th>\n",
       "      <td>Hawaii</td>\n",
       "      <td>19.0</td>\n",
       "    </tr>\n",
       "    <tr>\n",
       "      <th>33</th>\n",
       "      <td>North Carolina</td>\n",
       "      <td>19.1</td>\n",
       "    </tr>\n",
       "  </tbody>\n",
       "</table>\n",
       "</div>"
      ],
      "text/plain": [
       "             state  composite_act\n",
       "28          Nevada           17.8\n",
       "24     Mississippi           18.6\n",
       "40  South Carolina           18.7\n",
       "11          Hawaii           19.0\n",
       "33  North Carolina           19.1"
      ]
     },
     "execution_count": 348,
     "metadata": {},
     "output_type": "execute_result"
    }
   ],
   "source": [
    "# The lowest mean of composite score of ACT\n",
    "\n",
    "act_sat_2017.sort_values('composite_act')[['state', 'composite_act']].head()"
   ]
  },
  {
   "cell_type": "code",
   "execution_count": 349,
   "metadata": {},
   "outputs": [
    {
     "data": {
      "text/html": [
       "<div>\n",
       "<style scoped>\n",
       "    .dataframe tbody tr th:only-of-type {\n",
       "        vertical-align: middle;\n",
       "    }\n",
       "\n",
       "    .dataframe tbody tr th {\n",
       "        vertical-align: top;\n",
       "    }\n",
       "\n",
       "    .dataframe thead th {\n",
       "        text-align: right;\n",
       "    }\n",
       "</style>\n",
       "<table border=\"1\" class=\"dataframe\">\n",
       "  <thead>\n",
       "    <tr style=\"text-align: right;\">\n",
       "      <th></th>\n",
       "      <th>state</th>\n",
       "      <th>composite_act</th>\n",
       "    </tr>\n",
       "  </thead>\n",
       "  <tbody>\n",
       "    <tr>\n",
       "      <th>8</th>\n",
       "      <td>District of Columbia</td>\n",
       "      <td>24.2</td>\n",
       "    </tr>\n",
       "    <tr>\n",
       "      <th>19</th>\n",
       "      <td>Maine</td>\n",
       "      <td>24.3</td>\n",
       "    </tr>\n",
       "    <tr>\n",
       "      <th>6</th>\n",
       "      <td>Connecticut</td>\n",
       "      <td>25.2</td>\n",
       "    </tr>\n",
       "    <tr>\n",
       "      <th>21</th>\n",
       "      <td>Massachusetts</td>\n",
       "      <td>25.4</td>\n",
       "    </tr>\n",
       "    <tr>\n",
       "      <th>29</th>\n",
       "      <td>New Hampshire</td>\n",
       "      <td>25.5</td>\n",
       "    </tr>\n",
       "  </tbody>\n",
       "</table>\n",
       "</div>"
      ],
      "text/plain": [
       "                   state  composite_act\n",
       "8   District of Columbia           24.2\n",
       "19                 Maine           24.3\n",
       "6            Connecticut           25.2\n",
       "21         Massachusetts           25.4\n",
       "29         New Hampshire           25.5"
      ]
     },
     "execution_count": 349,
     "metadata": {},
     "output_type": "execute_result"
    }
   ],
   "source": [
    "# The highest mean of composite score of ACT\n",
    "act_sat_2017.sort_values('composite_act')[['state', 'composite_act']].tail()"
   ]
  },
  {
   "cell_type": "markdown",
   "metadata": {},
   "source": [
    "Answer \n",
    " - 2017 SAT:  District of Columbia has the lowest participation  rate whereas Minnesota has the highest total_sat\n",
    " - 2017 ACT:  Nevada has the lowest participation  rate whereas New Hampshire has the highest composite_act "
   ]
  },
  {
   "cell_type": "markdown",
   "metadata": {},
   "source": [
    "#### Do any states with 100% participation on a given test?"
   ]
  },
  {
   "cell_type": "code",
   "execution_count": 350,
   "metadata": {},
   "outputs": [
    {
     "data": {
      "text/html": [
       "<div>\n",
       "<style scoped>\n",
       "    .dataframe tbody tr th:only-of-type {\n",
       "        vertical-align: middle;\n",
       "    }\n",
       "\n",
       "    .dataframe tbody tr th {\n",
       "        vertical-align: top;\n",
       "    }\n",
       "\n",
       "    .dataframe thead th {\n",
       "        text-align: right;\n",
       "    }\n",
       "</style>\n",
       "<table border=\"1\" class=\"dataframe\">\n",
       "  <thead>\n",
       "    <tr style=\"text-align: right;\">\n",
       "      <th></th>\n",
       "      <th>state</th>\n",
       "      <th>participation(%)_sat</th>\n",
       "    </tr>\n",
       "  </thead>\n",
       "  <tbody>\n",
       "    <tr>\n",
       "      <th>6</th>\n",
       "      <td>Connecticut</td>\n",
       "      <td>100.0</td>\n",
       "    </tr>\n",
       "    <tr>\n",
       "      <th>7</th>\n",
       "      <td>Delaware</td>\n",
       "      <td>100.0</td>\n",
       "    </tr>\n",
       "    <tr>\n",
       "      <th>8</th>\n",
       "      <td>District of Columbia</td>\n",
       "      <td>100.0</td>\n",
       "    </tr>\n",
       "    <tr>\n",
       "      <th>22</th>\n",
       "      <td>Michigan</td>\n",
       "      <td>100.0</td>\n",
       "    </tr>\n",
       "  </tbody>\n",
       "</table>\n",
       "</div>"
      ],
      "text/plain": [
       "                   state  participation(%)_sat\n",
       "6            Connecticut                 100.0\n",
       "7               Delaware                 100.0\n",
       "8   District of Columbia                 100.0\n",
       "22              Michigan                 100.0"
      ]
     },
     "execution_count": 350,
     "metadata": {},
     "output_type": "execute_result"
    }
   ],
   "source": [
    "# 100% participating states on SAT 2017\n",
    "act_sat_2017[(act_sat_2017['participation(%)_sat']==100)][['state','participation(%)_sat']]"
   ]
  },
  {
   "cell_type": "code",
   "execution_count": 351,
   "metadata": {},
   "outputs": [
    {
     "data": {
      "text/plain": [
       "state                   17\n",
       "participation(%)_act    17\n",
       "dtype: int64"
      ]
     },
     "execution_count": 351,
     "metadata": {},
     "output_type": "execute_result"
    }
   ],
   "source": [
    "# 100% participating states on ACT 2017\n",
    "act_sat_2017[(act_sat_2017['participation(%)_act']==100)][['state', 'participation(%)_act']].count()"
   ]
  },
  {
   "cell_type": "markdown",
   "metadata": {},
   "source": [
    "Answer \n",
    " - 2017 SAT:  Yes, there are 4 states with 100% participation  \n",
    " - 2017 ACT:  Yes, there are 17 states with 100% participation  "
   ]
  },
  {
   "cell_type": "markdown",
   "metadata": {},
   "source": [
    "#### Do any states show have >50% participation on *both* tests?"
   ]
  },
  {
   "cell_type": "code",
   "execution_count": 352,
   "metadata": {},
   "outputs": [
    {
     "data": {
      "text/plain": [
       "3"
      ]
     },
     "execution_count": 352,
     "metadata": {},
     "output_type": "execute_result"
    }
   ],
   "source": [
    "# States participating more than 50% on both tests in the year 2017\n",
    "act_sat_2017[(act_sat_2017['participation(%)_sat']>50) & (act_sat_2017['participation(%)_act']>50) ]['state'].count()"
   ]
  },
  {
   "cell_type": "markdown",
   "metadata": {},
   "source": [
    "Answer \n",
    "- Yes there are 3 states with greater than 50% participation on both tests. "
   ]
  },
  {
   "cell_type": "markdown",
   "metadata": {},
   "source": [
    "## Visualize the Data\n",
    "\n",
    "There's not a magic bullet recommendation for the right number of plots to understand a given dataset, but visualizing your data is *always* a good idea. Not only does it allow you to quickly convey your findings (even if you have a non-technical audience), it will often reveal trends in your data that escaped you when you were looking only at numbers. It is important to not only create visualizations, but to **interpret your visualizations** as well.\n",
    "\n",
    "**Important guidelines for plotting**:\n",
    "- Have a title\n",
    "- Have axis labels\n",
    "- Have appropriate tick labels\n",
    "- Text is legible in a plot\n",
    "- Plots demonstrate meaningful and valid relationships\n",
    "- Have an interpretation to aid understanding\n",
    "\n",
    "These points help to generate a better visualization interpritation to the dataset.\n",
    "\n",
    "#### 1. Use Seaborn's heatmap with pandas `.corr()` to visualize correlations between all numeric features.\n",
    "   Heatmaps are generally not appropriate for presentations, and should often be excluded from reports as they can be visually overwhelming. **However**, they can be extremely useful in identify relationships of potential interest to look the  potential collinearity before modeling.\n",
    "   \n",
    " \n",
    "Please take time to format your output, adding a title. Look through some of the additional arguments and options. (Axis labels aren't really necessary, as long as the title is informative).\n"
   ]
  },
  {
   "cell_type": "code",
   "execution_count": 353,
   "metadata": {},
   "outputs": [
    {
     "data": {
      "image/png": "[encoded data removed]",
      "text/plain": [
       "<Figure size 1440x1008 with 2 Axes>"
      ]
     },
     "metadata": {},
     "output_type": "display_data"
    }
   ],
   "source": [
    "#Establish size of figure.\n",
    "plt.figure(figsize=(20,14));\n",
    "mask = np.zeros_like(act_sat_2017.corr());\n",
    "mask[np.triu_indices_from(mask)] = True; # hide the upper triangle of the graph\n",
    "sns.set(font_scale=1.8)\n",
    "mapsat_act=sns.heatmap(act_sat_2017.corr(), annot=True, mask=mask, annot_kws={'size': 20}, cmap=\"PiYG\", xticklabels=True);\n",
    "mapsat_act.set_xticklabels(mapsat_act.get_xticklabels(), rotation=45);\n",
    "\n",
    "\n",
    "plt.title('Correlation Heatmap of ACT and SAT 2017', size = 20)\n",
    "plt.xlabel('ACT/ SAT  Scores', fontsize = 40)\n",
    "plt.ylabel('ACT/ SAT Participation (%)', fontsize = 40);\n"
   ]
  },
  {
   "cell_type": "markdown",
   "metadata": {},
   "source": [
    "Observation: The result shows negative correlation between participation rate and test results in both exam types on 2017. The higher the participation rate resulted lower the test score of all subjects. "
   ]
  },
  {
   "cell_type": "markdown",
   "metadata": {},
   "source": [
    "2. Visualize distributions using histograms. If you have a lot, consider writing a custom function and use subplots.\n",
    "    - *OPTIONAL*: Summarize the underlying distributions of your features (in words & statistics)\n",
    "         - Be thorough in your verbal description of these distributions.\n",
    "         - Be sure to back up these summaries with statistics.\n",
    "         - We generally assume that data we sample from a population will be normally distributed. Do we observe this trend? Explain your answers for each distribution and how you think this will affect estimates made from these data.\n"
   ]
  },
  {
   "cell_type": "code",
   "execution_count": 354,
   "metadata": {},
   "outputs": [],
   "source": [
    "def histograms(dataframe, columns_name, titles, xlabel):\n",
    "    nrows = int(np.ceil(len(columns_name)/2)) \n",
    "    fig, ax = plt.subplots(nrows=nrows, ncols=2, figsize=(15, 12))\n",
    "    ax = ax.ravel() \n",
    "    for i, column in enumerate(columns_name): # to provide index for columns and iterate them      \n",
    "        ax[i].hist(dataframe[column], bins=10)\n",
    "        ax[i].set_title(titles[i])\n",
    "        ax[i].set_ylabel('States frequency')\n",
    "        ax[i].set_xlabel(xlabel)\n",
    "        ax[i].axvline(np.mean(dataframe[column]), color='k', linestyle='--', lw=4)\n",
    "        "
   ]
  },
  {
   "cell_type": "code",
   "execution_count": 355,
   "metadata": {},
   "outputs": [
    {
     "data": {
      "image/png": "[encoded data removed]",
      "text/plain": [
       "<Figure size 1080x864 with 2 Axes>"
      ]
     },
     "metadata": {},
     "output_type": "display_data"
    }
   ],
   "source": [
    "# participation rate\n",
    "columns_name = [\"participation(%)_act\" , \"participation(%)_sat\"]\n",
    "titles = [\"2017 ACT Participation Rate\" , \"2017 SAT Participation Rate\"]\n",
    "xlabel = \"Participation Percentage\"\n",
    "histograms(act_sat_2017, columns_name, titles, xlabel)"
   ]
  },
  {
   "cell_type": "markdown",
   "metadata": {},
   "source": [
    "Explanation: The participation rate of about 20 states are within 90 to 100%. On the contrary the states' participation rates on SAT 20117 test  are densed within 0 to 10%"
   ]
  },
  {
   "cell_type": "code",
   "execution_count": 356,
   "metadata": {},
   "outputs": [
    {
     "data": {
      "image/png": "[encoded data removed]",
      "text/plain": [
       "<Figure size 1080x864 with 4 Axes>"
      ]
     },
     "metadata": {},
     "output_type": "display_data"
    }
   ],
   "source": [
    "# math and english\n",
    "columns_name = ['english_act', 'math_act','read_write_sat', 'math_sat']\n",
    "titles = [\"2017 ACT English\" , \"2017 ACT Math\" ,\"2017 SAT Evidence Based Reading\",\"2017 SAT Math\"]\n",
    "xlabel = \" Test Score \"\n",
    "histograms(act_sat_2017, columns_name, titles, xlabel)"
   ]
  },
  {
   "cell_type": "markdown",
   "metadata": {},
   "source": [
    "Analysis: The majority of evidence based reading and writing score are lower than the mean.  The math test score of SAT 2017 highly skewed to the right which is not normally distributed"
   ]
  },
  {
   "cell_type": "markdown",
   "metadata": {},
   "source": [
    "3. Plot and interpret boxplots. \n",
    "    - Boxplots demonstrate central tendency and spread in variables. In a certain sense, these are somewhat redundant with histograms, but you may be better able to identify clear outliers or differences in IQR, etc.\n",
    "    - Multiple values can be plotted to a single boxplot as long as they are of the same relative scale (meaning they have similar min/max values).\n",
    "    - Each boxplot should:\n",
    "        - Only include variables of a similar scale\n",
    "        - Have clear labels for each variable\n",
    "        - Have appropriate titles and labels"
   ]
  },
  {
   "cell_type": "code",
   "execution_count": 357,
   "metadata": {},
   "outputs": [],
   "source": [
    "def plot_box(dataframe, columns_name ,titles, ylabel):\n",
    "    plt.figure(figsize=(14,10))\n",
    "    sns.set(style=\"whitegrid\")\n",
    "    plt.title(titles)\n",
    "    plt.ylabel(ylabel)\n",
    "    ax = sns.boxplot(data=dataframe[columns_name], width=0.4)"
   ]
  },
  {
   "cell_type": "code",
   "execution_count": 358,
   "metadata": {},
   "outputs": [
    {
     "data": {
      "image/png": "[encoded data removed]",
      "text/plain": [
       "<Figure size 1008x720 with 1 Axes>"
      ]
     },
     "metadata": {},
     "output_type": "display_data"
    }
   ],
   "source": [
    "# Participation rate\n",
    "columns_name = [\"participation(%)_act\" , \"participation(%)_sat\"]\n",
    "titles = \"Boxplote of Participation Rate of 2017 ACT /2017 SAT\"\n",
    "ylabel = \"Participation Percentage\"\n",
    "plot_box(act_sat_2017, columns_name, titles, ylabel)"
   ]
  },
  {
   "cell_type": "markdown",
   "metadata": {},
   "source": [
    "Explanation of the analysis: In ACT participation there is a lower extrem value whereas on SAT participation there is a higher extrime value away from the median."
   ]
  },
  {
   "cell_type": "code",
   "execution_count": 359,
   "metadata": {},
   "outputs": [
    {
     "data": {
      "image/png": "[encoded data removed]",
      "text/plain": [
       "<Figure size 1008x720 with 1 Axes>"
      ]
     },
     "metadata": {},
     "output_type": "display_data"
    }
   ],
   "source": [
    "# ACT\n",
    "columns_name = ['english_act', 'math_act']\n",
    "titles = \"2017 ACT English and Math Test Scores\"\n",
    "ylabel = \" Test Score Percentages\"\n",
    "plot_box(act_sat_2017, columns_name, titles, ylabel)"
   ]
  },
  {
   "cell_type": "code",
   "execution_count": 360,
   "metadata": {},
   "outputs": [
    {
     "data": {
      "image/png": "[encoded data removed]",
      "text/plain": [
       "<Figure size 1008x720 with 1 Axes>"
      ]
     },
     "metadata": {},
     "output_type": "display_data"
    }
   ],
   "source": [
    "# SAT\n",
    "columns_name = ['read_write_sat', 'math_sat']\n",
    "titles = \"2017 SAT Read_write and Math Test Scores\"\n",
    "ylabel = \" Test Score Percentages\"\n",
    "plot_box(act_sat_2017, columns_name, titles, ylabel)"
   ]
  },
  {
   "cell_type": "markdown",
   "metadata": {},
   "source": [
    "\n",
    "4. Plot and interpret scatter plots to view relationships between features. Feel free to write a custom function, and subplot if you'd like. Functions save both time and space.\n",
    "    - Your plots should have:\n",
    "        - Two clearly labeled axes\n",
    "        - A proper title\n",
    "        - Colors and symbols that are clear and unmistakable\n"
   ]
  },
  {
   "cell_type": "code",
   "execution_count": 361,
   "metadata": {},
   "outputs": [],
   "source": [
    "def plot_scatter(dataframe, x, y, title):\n",
    "    plt.figure(figsize=(10, 8))\n",
    "    plt.scatter(dataframe[x], dataframe[y])\n",
    "    plt.title(title)\n",
    "    plt.ylabel(y, fontsize = 20)\n",
    "    plt.xlabel(x, fontsize = 20);\n",
    "    #plt.show()\n",
    "    "
   ]
  },
  {
   "cell_type": "code",
   "execution_count": 362,
   "metadata": {},
   "outputs": [
    {
     "data": {
      "image/png": "[encoded data removed]",
      "text/plain": [
       "<Figure size 720x576 with 1 Axes>"
      ]
     },
     "metadata": {},
     "output_type": "display_data"
    }
   ],
   "source": [
    "#SAT \n",
    "plot_scatter(act_sat_2017, 'total_sat', 'participation(%)_sat', 'SAT Total vs. Participation rate for 2017')\n"
   ]
  },
  {
   "cell_type": "code",
   "execution_count": 363,
   "metadata": {},
   "outputs": [
    {
     "data": {
      "image/png": "[encoded data removed]",
      "text/plain": [
       "<Figure size 720x576 with 1 Axes>"
      ]
     },
     "metadata": {},
     "output_type": "display_data"
    }
   ],
   "source": [
    "#ACT\n",
    "plot_scatter(act_sat_2017, 'composite_act', 'participation(%)_act', 'ACT Composite vs. Participation rate for 2017')"
   ]
  },
  {
   "cell_type": "code",
   "execution_count": 364,
   "metadata": {
    "scrolled": true
   },
   "outputs": [
    {
     "data": {
      "image/png": "[encoded data removed]",
      "text/plain": [
       "<Figure size 720x576 with 1 Axes>"
      ]
     },
     "metadata": {},
     "output_type": "display_data"
    }
   ],
   "source": [
    "#ACT-Maths\n",
    "plot_scatter(act_sat_2017, 'math_act', 'participation(%)_act', 'ACT Math vs. Participation rate for 2017')"
   ]
  },
  {
   "cell_type": "raw",
   "metadata": {},
   "source": [
    "Analysis: The participation percentage shows negatively correlate with the subject score of SAT and ACT, typically in the scater plot figures confirmed that the math and composit from ACt and Total has nonlinear trend of the data."
   ]
  },
  {
   "cell_type": "markdown",
   "metadata": {},
   "source": [
    "## Conclusions and Recommendations"
   ]
  },
  {
   "cell_type": "markdown",
   "metadata": {},
   "source": [
    "Based on your exploration of the data, what are you key takeaways and recommendations? Make sure to answer your question of interest or address your problem statement here."
   ]
  },
  {
   "cell_type": "markdown",
   "metadata": {},
   "source": [
    "There is interest in the academic institution to use SAT or ACT test as reference standard for the admission (1). However, states have different preferred requirement either SAT or CAT participation for college admission (1-2). The results confirmed each tests has independent of each other’s to estimate the participation of the student for the college or university admissions. The analysis showed more states (17) have 100% participation rate of ACT as compared with states for SAT (4 states). This indicates ACT has more preferred than SAT. Further, there were four states had above 50% participation in SAT and ACT. From these results it may be better to use both tests as tools to all states instead one. "
   ]
  },
  {
   "cell_type": "code",
   "execution_count": null,
   "metadata": {},
   "outputs": [],
   "source": []
  }
 ],
 "metadata": {
  "anaconda-cloud": {},
  "kernelspec": {
   "display_name": "Python 3",
   "language": "python",
   "name": "python3"
  },
  "language_info": {
   "codemirror_mode": {
    "name": "ipython",
    "version": 3
   },
   "file_extension": ".py",
   "mimetype": "text/x-python",
   "name": "python",
   "nbconvert_exporter": "python",
   "pygments_lexer": "ipython3",
   "version": "3.8.8"
  }
 },
 "nbformat": 4,
 "nbformat_minor": 4
}
